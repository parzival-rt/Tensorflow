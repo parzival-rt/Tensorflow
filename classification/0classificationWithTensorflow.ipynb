{
  "nbformat": 4,
  "nbformat_minor": 0,
  "metadata": {
    "colab": {
      "name": "0classificationWithTensorflow.ipynb",
      "provenance": [],
      "collapsed_sections": []
    },
    "kernelspec": {
      "name": "python3",
      "display_name": "Python 3"
    }
  },
  "cells": [
    {
      "cell_type": "code",
      "metadata": {
        "id": "CiRf-aXHjtVb",
        "colab_type": "code",
        "outputId": "f07393ed-4bdc-4ab9-d218-c6c647071f40",
        "colab": {
          "base_uri": "https://localhost:8080/",
          "height": 34
        }
      },
      "source": [
        "import numpy as np  # lineer algebra\n",
        "import tensorflow as tf # ai\n",
        "from tensorflow import keras # ai\n",
        "import matplotlib.pyplot as plt # plot and graph\n",
        "if (tf.__version__ != '2.0.0'): # before this you should import tensorflow \n",
        "  print(\"Tensorflow version to be deleted : \",tf.__version__)\n",
        "  !pip uninstall tensorflow\n",
        "  !pip install tensorflow==2.0.0\n",
        "  print('Tensorflow latest v2.0.0 downloaded')\n",
        "else:\n",
        "  print(\"Tensorflow version :\",tf.__version__)"
      ],
      "execution_count": 6,
      "outputs": [
        {
          "output_type": "stream",
          "text": [
            "Tensorflow version : 2.0.0\n"
          ],
          "name": "stdout"
        }
      ]
    },
    {
      "cell_type": "code",
      "metadata": {
        "id": "l_v0pjraj78i",
        "colab_type": "code",
        "colab": {}
      },
      "source": [
        "fashion_mnist = keras.datasets.fashion_mnist # loaded the data"
      ],
      "execution_count": 0,
      "outputs": []
    },
    {
      "cell_type": "code",
      "metadata": {
        "id": "zus2HB2slkpy",
        "colab_type": "code",
        "colab": {}
      },
      "source": [
        "(train_images, train_labels), (test_images, test_labels) = fashion_mnist.load_data() # this code return four diferent data"
      ],
      "execution_count": 0,
      "outputs": []
    },
    {
      "cell_type": "code",
      "metadata": {
        "id": "41jZv-U7lkwt",
        "colab_type": "code",
        "colab": {}
      },
      "source": [
        "class_names = ['T-shirt/top', 'Trouser', 'Pullover', 'Dress', 'Coat',\n",
        "               'Sandal', 'Shirt', 'Sneaker', 'Bag', 'Ankle boot']"
      ],
      "execution_count": 0,
      "outputs": []
    },
    {
      "cell_type": "markdown",
      "metadata": {
        "id": "cA14nrWIoj-s",
        "colab_type": "text"
      },
      "source": [
        "# **Explore the data**\n",
        "* Before training the model, let's examine the format of the data set.\n",
        "* In the following section, there are 60,000 images in the training set, each shown as 28 x 28 pixels."
      ]
    },
    {
      "cell_type": "code",
      "metadata": {
        "id": "sX-JWR51lk1T",
        "colab_type": "code",
        "outputId": "10b68012-2deb-40c9-9c9e-76f4e97ca309",
        "colab": {
          "base_uri": "https://localhost:8080/",
          "height": 34
        }
      },
      "source": [
        "train_images.shape # 28x28 in size 60000 picture"
      ],
      "execution_count": 10,
      "outputs": [
        {
          "output_type": "execute_result",
          "data": {
            "text/plain": [
              "(60000, 28, 28)"
            ]
          },
          "metadata": {
            "tags": []
          },
          "execution_count": 10
        }
      ]
    },
    {
      "cell_type": "code",
      "metadata": {
        "id": "LnyzVlOVlkzi",
        "colab_type": "code",
        "outputId": "30babb99-ea93-4a6f-a145-7433d56be3af",
        "colab": {
          "base_uri": "https://localhost:8080/",
          "height": 34
        }
      },
      "source": [
        "len(train_labels) # there is 60000 labels"
      ],
      "execution_count": 11,
      "outputs": [
        {
          "output_type": "execute_result",
          "data": {
            "text/plain": [
              "60000"
            ]
          },
          "metadata": {
            "tags": []
          },
          "execution_count": 11
        }
      ]
    },
    {
      "cell_type": "code",
      "metadata": {
        "id": "kwlmD-1Zlkuo",
        "colab_type": "code",
        "outputId": "c9daaa49-3495-4ce7-e277-8568c1c99dcd",
        "colab": {
          "base_uri": "https://localhost:8080/",
          "height": 34
        }
      },
      "source": [
        "train_labels # labels take a value between 0 and 9"
      ],
      "execution_count": 12,
      "outputs": [
        {
          "output_type": "execute_result",
          "data": {
            "text/plain": [
              "array([9, 0, 0, ..., 3, 0, 5], dtype=uint8)"
            ]
          },
          "metadata": {
            "tags": []
          },
          "execution_count": 12
        }
      ]
    },
    {
      "cell_type": "code",
      "metadata": {
        "id": "sXl-5A3_lkso",
        "colab_type": "code",
        "outputId": "3d864e16-9d8e-4e27-bc94-394db1da600e",
        "colab": {
          "base_uri": "https://localhost:8080/",
          "height": 34
        }
      },
      "source": [
        "test_images.shape # test set contains 10000 images with a size of 28x28"
      ],
      "execution_count": 13,
      "outputs": [
        {
          "output_type": "execute_result",
          "data": {
            "text/plain": [
              "(10000, 28, 28)"
            ]
          },
          "metadata": {
            "tags": []
          },
          "execution_count": 13
        }
      ]
    },
    {
      "cell_type": "code",
      "metadata": {
        "id": "QF6i3pefnj7S",
        "colab_type": "code",
        "outputId": "f5436faf-2eb6-4407-be23-0c1982afaa08",
        "colab": {
          "base_uri": "https://localhost:8080/",
          "height": 34
        }
      },
      "source": [
        "len(test_labels) # and the set contains 10000 labels"
      ],
      "execution_count": 14,
      "outputs": [
        {
          "output_type": "execute_result",
          "data": {
            "text/plain": [
              "10000"
            ]
          },
          "metadata": {
            "tags": []
          },
          "execution_count": 14
        }
      ]
    },
    {
      "cell_type": "markdown",
      "metadata": {
        "id": "zYNsvqfdwZ1N",
        "colab_type": "text"
      },
      "source": [
        "# **Preprocess the data**\n",
        "* Now we must process the data"
      ]
    },
    {
      "cell_type": "code",
      "metadata": {
        "id": "n9vRQ2KDnkFe",
        "colab_type": "code",
        "outputId": "1136be6e-c895-4d41-d68c-4e1eea0a52b4",
        "colab": {
          "base_uri": "https://localhost:8080/",
          "height": 265
        }
      },
      "source": [
        "plt.figure()\n",
        "plt.imshow(train_images[0])\n",
        "plt.colorbar() # for color scala\n",
        "plt.grid(False) # squared ground\n",
        "plt.show()"
      ],
      "execution_count": 15,
      "outputs": [
        {
          "output_type": "display_data",
          "data": {
            "image/png": "[encoded data removed]",
            "text/plain": [
              "<Figure size 432x288 with 2 Axes>"
            ]
          },
          "metadata": {
            "tags": []
          }
        }
      ]
    },
    {
      "cell_type": "markdown",
      "metadata": {
        "id": "VXFM3zEQ22Tw",
        "colab_type": "text"
      },
      "source": [
        "* Scale these values to a range of 0 to 1 before feeding them to the neural network model. \n",
        "* To do so, divide the values by 255.\n",
        "* It's important that the training set and the testing set be preprocessed in the same way:"
      ]
    },
    {
      "cell_type": "code",
      "metadata": {
        "id": "m8CffBREnkIV",
        "colab_type": "code",
        "colab": {}
      },
      "source": [
        "train_images = train_images / 255.0\n",
        "test_images = test_images / 255.0"
      ],
      "execution_count": 0,
      "outputs": []
    },
    {
      "cell_type": "markdown",
      "metadata": {
        "id": "wnpqRO6D31j0",
        "colab_type": "text"
      },
      "source": [
        "# Let's look at the top 25 data to check what we're doing."
      ]
    },
    {
      "cell_type": "code",
      "metadata": {
        "id": "voUpm1CcnkMY",
        "colab_type": "code",
        "outputId": "534f5853-a767-43cf-b829-7eec34842106",
        "colab": {
          "base_uri": "https://localhost:8080/",
          "height": 589
        }
      },
      "source": [
        "plt.figure(figsize=(10,10))\n",
        "for i in range(25):\n",
        "  plt.subplot(5,5,i+1)\n",
        "  plt.xticks([]) # space instead of pixels number\n",
        "  plt.yticks([]) # space instead of pixels number\n",
        "  plt.grid(False)\n",
        "  plt.imshow(train_images[i], cmap = plt.cm.binary) # colorMap : default color scales binary : balack and white\n",
        "  plt.xlabel(class_names[train_labels[i]]) # name of x axis \n",
        "plt.show()"
      ],
      "execution_count": 17,
      "outputs": [
        {
          "output_type": "display_data",
          "data": {
            "image/png": "[encoded data removed]",
            "text/plain": [
              "<Figure size 720x720 with 25 Axes>"
            ]
          },
          "metadata": {
            "tags": []
          }
        }
      ]
    },
    {
      "cell_type": "markdown",
      "metadata": {
        "id": "mCdbdr6G8bGN",
        "colab_type": "text"
      },
      "source": [
        "# **Build the model**\n",
        "* Building the neural network\n",
        "* Configuring the layers of the model \n",
        "* Compiling the model.\n",
        "\n",
        "\n",
        "\n"
      ]
    },
    {
      "cell_type": "markdown",
      "metadata": {
        "id": "OkStAHLK9RFb",
        "colab_type": "text"
      },
      "source": [
        "##Set up the layers\n",
        "@ The basic building block of a neural network is the layer. Layers extract representations from the data fed into them.\n",
        "\n",
        "@ Most of deep learning consists of chaining together simple layers. Most layers, such as tf.keras.layers.Dense, have parameters that are learned during training."
      ]
    },
    {
      "cell_type": "code",
      "metadata": {
        "id": "kQ0ioJEQnkDq",
        "colab_type": "code",
        "colab": {}
      },
      "source": [
        "model = keras.Sequential([\n",
        "    keras.layers.Flatten(input_shape=(28,28)), # 28x28=784 one dimensional array\n",
        "    keras.layers.Dense(128, activation='relu'), # 128 neurons\n",
        "    keras.layers.Dense(10, activation='softmax') \n",
        "])"
      ],
      "execution_count": 0,
      "outputs": []
    },
    {
      "cell_type": "markdown",
      "metadata": {
        "id": "KTO3WZRaAmEV",
        "colab_type": "text"
      },
      "source": [
        "## Compile the model\n",
        "* Loss function : This measures how accurate the model is during training. You want to minimize this function to \"steer\" the model in the right direction.\n",
        "* Optimizer —This is how the model is updated based on the data it sees and its loss function.\n",
        "* Metrics —Used to monitor the training and testing steps. The following example uses accuracy, the fraction of the images that are correctly classified."
      ]
    },
    {
      "cell_type": "code",
      "metadata": {
        "id": "xl7pLui6nkCH",
        "colab_type": "code",
        "colab": {}
      },
      "source": [
        "model.compile(optimizer= 'adam', # default (0.1)\n",
        "              loss='sparse_categorical_crossentropy',\n",
        "              metrics=['accuracy'])"
      ],
      "execution_count": 0,
      "outputs": []
    },
    {
      "cell_type": "markdown",
      "metadata": {
        "id": "yLy6STXMCRby",
        "colab_type": "text"
      },
      "source": [
        "# **Train the model**\n",
        "* Feed the created model with training sets (train_images , train_labels )\n",
        "* The model learns to associate images and labels\n",
        "* You ask the model to make predictions about a test set. (test_images , test_labels)"
      ]
    },
    {
      "cell_type": "code",
      "metadata": {
        "id": "zIXmOsjAnj_q",
        "colab_type": "code",
        "outputId": "14eab822-70f5-4427-bb14-59444111bade",
        "colab": {
          "base_uri": "https://localhost:8080/",
          "height": 391
        }
      },
      "source": [
        "model.fit(train_images , train_labels , epochs=10)"
      ],
      "execution_count": 20,
      "outputs": [
        {
          "output_type": "stream",
          "text": [
            "Train on 60000 samples\n",
            "Epoch 1/10\n",
            "60000/60000 [==============================] - 5s 91us/sample - loss: 0.4989 - accuracy: 0.8241\n",
            "Epoch 2/10\n",
            "60000/60000 [==============================] - 5s 82us/sample - loss: 0.3751 - accuracy: 0.8654\n",
            "Epoch 3/10\n",
            "60000/60000 [==============================] - 5s 81us/sample - loss: 0.3362 - accuracy: 0.8776\n",
            "Epoch 4/10\n",
            "60000/60000 [==============================] - 5s 81us/sample - loss: 0.3130 - accuracy: 0.8853\n",
            "Epoch 5/10\n",
            "60000/60000 [==============================] - 5s 83us/sample - loss: 0.2950 - accuracy: 0.8911\n",
            "Epoch 6/10\n",
            "60000/60000 [==============================] - 5s 82us/sample - loss: 0.2838 - accuracy: 0.8958\n",
            "Epoch 7/10\n",
            "60000/60000 [==============================] - 5s 82us/sample - loss: 0.2700 - accuracy: 0.8999\n",
            "Epoch 8/10\n",
            "60000/60000 [==============================] - 5s 82us/sample - loss: 0.2584 - accuracy: 0.9039\n",
            "Epoch 9/10\n",
            "60000/60000 [==============================] - 5s 81us/sample - loss: 0.2474 - accuracy: 0.9083\n",
            "Epoch 10/10\n",
            "60000/60000 [==============================] - 5s 81us/sample - loss: 0.2395 - accuracy: 0.9104\n"
          ],
          "name": "stdout"
        },
        {
          "output_type": "execute_result",
          "data": {
            "text/plain": [
              "<tensorflow.python.keras.callbacks.History at 0x7fae29e06550>"
            ]
          },
          "metadata": {
            "tags": []
          },
          "execution_count": 20
        }
      ]
    },
    {
      "cell_type": "markdown",
      "metadata": {
        "id": "vYD65auyEHC8",
        "colab_type": "text"
      },
      "source": [
        "#**Evaluate accuracy**\n",
        "* Next , Compare how the model performs on the test dataset."
      ]
    },
    {
      "cell_type": "code",
      "metadata": {
        "id": "I8Jb-GDFnj9s",
        "colab_type": "code",
        "outputId": "cd3a0e1d-0e18-4cc6-bf07-be37a3148d14",
        "colab": {
          "base_uri": "https://localhost:8080/",
          "height": 51
        }
      },
      "source": [
        "test_loss, test_acc = model.evaluate(test_images,  test_labels, verbose=2)\n",
        "print('Test accuracy:',test_acc)"
      ],
      "execution_count": 21,
      "outputs": [
        {
          "output_type": "stream",
          "text": [
            "10000/1 - 1s - loss: 0.2507 - accuracy: 0.8869\n",
            "Test accuracy: 0.8869\n"
          ],
          "name": "stdout"
        }
      ]
    },
    {
      "cell_type": "markdown",
      "metadata": {
        "id": "H78G3pLeF6xH",
        "colab_type": "text"
      },
      "source": [
        "*   **Overfitting** is when a machine learning model performs worse on new, previously unseen inputs than on the training data.\n",
        "*   **Underfitting** event is that the model does not understand the correlation between the data.\n",
        "\n",
        "\n",
        "\n",
        "\n",
        "\n"
      ]
    },
    {
      "cell_type": "markdown",
      "metadata": {
        "id": "m8k7xhGtSJKG",
        "colab_type": "text"
      },
      "source": [
        "![alt text](https://miro.medium.com/proxy/1*_7OPgojau8hkiPUiHoGK_w.png)\n",
        "**************************************************************"
      ]
    },
    {
      "cell_type": "markdown",
      "metadata": {
        "id": "CRg9n4dHS5_Q",
        "colab_type": "text"
      },
      "source": [
        "#**Make predictions**\n",
        "With the model trained, you can use it to make predictions about some images."
      ]
    },
    {
      "cell_type": "code",
      "metadata": {
        "id": "OGltRYh-Eaid",
        "colab_type": "code",
        "colab": {}
      },
      "source": [
        "predictions = model.predict(test_images)"
      ],
      "execution_count": 0,
      "outputs": []
    },
    {
      "cell_type": "markdown",
      "metadata": {
        "id": "oo31O3U6UWeE",
        "colab_type": "text"
      },
      "source": [
        "Here, the model has predicted the label for each image in the testing set. Let's take a look at the first prediction."
      ]
    },
    {
      "cell_type": "code",
      "metadata": {
        "id": "TPUZJ3tREa9j",
        "colab_type": "code",
        "outputId": "aa1f6b4d-f8b2-4854-d526-f3893f905cd7",
        "colab": {
          "base_uri": "https://localhost:8080/",
          "height": 68
        }
      },
      "source": [
        "predictions[0]"
      ],
      "execution_count": 23,
      "outputs": [
        {
          "output_type": "execute_result",
          "data": {
            "text/plain": [
              "array([3.1776661e-08, 2.1007733e-12, 3.0200411e-08, 1.3249400e-10,\n",
              "       5.5360477e-08, 8.5032848e-04, 8.2664840e-08, 1.1791065e-02,\n",
              "       3.4038105e-06, 9.8735505e-01], dtype=float32)"
            ]
          },
          "metadata": {
            "tags": []
          },
          "execution_count": 23
        }
      ]
    },
    {
      "cell_type": "markdown",
      "metadata": {
        "id": "HGvgb47kUros",
        "colab_type": "text"
      },
      "source": [
        "A prediction is an array of 10 numbers. They represent the model's \"confidence\" that the image corresponds to each of the 10 different articles of clothing. You can see which label has the highest confidence value."
      ]
    },
    {
      "cell_type": "code",
      "metadata": {
        "id": "WNNMUp0iEa7C",
        "colab_type": "code",
        "outputId": "f85d2742-6079-4835-e48d-53782ca22423",
        "colab": {
          "base_uri": "https://localhost:8080/",
          "height": 34
        }
      },
      "source": [
        "np.argmax(predictions[0])"
      ],
      "execution_count": 24,
      "outputs": [
        {
          "output_type": "execute_result",
          "data": {
            "text/plain": [
              "9"
            ]
          },
          "metadata": {
            "tags": []
          },
          "execution_count": 24
        }
      ]
    },
    {
      "cell_type": "code",
      "metadata": {
        "id": "Jyx_7X-8Ea5a",
        "colab_type": "code",
        "outputId": "00535443-c01a-45ee-ad31-489f65463f90",
        "colab": {
          "base_uri": "https://localhost:8080/",
          "height": 34
        }
      },
      "source": [
        "test_labels[0]"
      ],
      "execution_count": 25,
      "outputs": [
        {
          "output_type": "execute_result",
          "data": {
            "text/plain": [
              "9"
            ]
          },
          "metadata": {
            "tags": []
          },
          "execution_count": 25
        }
      ]
    },
    {
      "cell_type": "code",
      "metadata": {
        "id": "QZ1Hh4-3Ea0T",
        "colab_type": "code",
        "colab": {}
      },
      "source": [
        "def plotImage(i, predictionsArray, trueLabel, img):\n",
        "  predictionsArray, trueLabel, img = predictionsArray, trueLabel[i], img[i]\n",
        "  plt.grid(False)\n",
        "  plt.xticks([])\n",
        "  plt.yticks([])\n",
        "\n",
        "  plt.imshow(img, cmap=plt.cm.binary)\n",
        "\n",
        "  predictedLabel = np.argmax(predictionsArray)\n",
        "  if predictedLabel == trueLabel:\n",
        "    color = 'green'\n",
        "  else:\n",
        "    color='red'\n",
        "  \n",
        "  plt.xlabel(\"{} {:2.0f}% ({})\".format(class_names[predictedLabel],\n",
        "                                       100*np.max(predictionsArray),\n",
        "                                       class_names[trueLabel]),\n",
        "                                       color = color)\n",
        "\n",
        "def plotValueArray(i, predictionsArray, trueLabel):\n",
        "  predictionsArray, trueLabel = predictionsArray, trueLabel[i]\n",
        "  plt.grid(False)\n",
        "  plt.xticks(range(10))\n",
        "  plt.yticks([])\n",
        "  thisPlot = plt.bar(range(10), predictionsArray, color = '#777777')\n",
        "  plt.ylim([0,1])\n",
        "  predictedLabel = np.argmax(predictionsArray)\n",
        "\n",
        "  thisPlot[predictedLabel].set_color('red')\n",
        "  thisPlot[trueLabel].set_color('green')"
      ],
      "execution_count": 0,
      "outputs": []
    },
    {
      "cell_type": "markdown",
      "metadata": {
        "id": "7FtdnLAEZhIR",
        "colab_type": "text"
      },
      "source": [
        "Let's look at the 0th image, predictions, and prediction array. Correct prediction labels are green and incorrect prediction labels are red. The number gives the percentage (out of 100) for the predicted label."
      ]
    },
    {
      "cell_type": "code",
      "metadata": {
        "id": "7R6YpOALEay-",
        "colab_type": "code",
        "outputId": "3dcb04aa-4240-48cf-d2e6-61df9ec1a592",
        "colab": {
          "base_uri": "https://localhost:8080/",
          "height": 211
        }
      },
      "source": [
        "i = 1254\n",
        "plt.figure(figsize=(6,3))\n",
        "plt.subplot(1,2,1)\n",
        "plotImage(i, predictions[i], test_labels, test_images)\n",
        "plt.subplot(1,2,2)\n",
        "plotValueArray(i, predictions[i], test_labels)\n",
        "plt.show()\n"
      ],
      "execution_count": 27,
      "outputs": [
        {
          "output_type": "display_data",
          "data": {
            "image/png": "[encoded data removed]",
            "text/plain": [
              "<Figure size 432x216 with 2 Axes>"
            ]
          },
          "metadata": {
            "tags": []
          }
        }
      ]
    },
    {
      "cell_type": "markdown",
      "metadata": {
        "id": "XKIfai2DTF6E",
        "colab_type": "text"
      },
      "source": [
        "Let's plot several images with their predictions. Note that the model can be wrong even when very confident."
      ]
    },
    {
      "cell_type": "code",
      "metadata": {
        "id": "KW0iqaRiEauh",
        "colab_type": "code",
        "outputId": "25ada59d-08f8-43a0-a546-294c822b1ddd",
        "colab": {
          "base_uri": "https://localhost:8080/",
          "height": 729
        }
      },
      "source": [
        "numRows, numCols = 5,3\n",
        "numImages = numCols*numRows # \n",
        "plt.figure(figsize=(2*2*numCols , 2*numRows))\n",
        "for i in range(numImages):\n",
        "  plt.subplot(numRows, 2*numCols, 2*i+1)\n",
        "  plotImage(i, predictions[i], test_labels, test_images)\n",
        "  plt.subplot(numRows, 2*numCols, 2*i+2)\n",
        "  plotValueArray(i, predictions[i], test_labels)\n",
        "plt.tight_layout()\n",
        "plt.show()"
      ],
      "execution_count": 28,
      "outputs": [
        {
          "output_type": "display_data",
          "data": {
            "image/png": "[encoded data removed]",
            "text/plain": [
              "<Figure size 864x720 with 30 Axes>"
            ]
          },
          "metadata": {
            "tags": []
          }
        }
      ]
    },
    {
      "cell_type": "markdown",
      "metadata": {
        "id": "RT6XrtcvVwrS",
        "colab_type": "text"
      },
      "source": [
        "#####Finally, use the trained model to make a prediction about a single image."
      ]
    },
    {
      "cell_type": "code",
      "metadata": {
        "id": "olvfOBpeEars",
        "colab_type": "code",
        "outputId": "699af9dd-9e20-4d6c-a86b-c1a1f5470749",
        "colab": {
          "base_uri": "https://localhost:8080/",
          "height": 34
        }
      },
      "source": [
        "img = test_images[2019]#2019\n",
        "print(img.shape)"
      ],
      "execution_count": 65,
      "outputs": [
        {
          "output_type": "stream",
          "text": [
            "(28, 28)\n"
          ],
          "name": "stdout"
        }
      ]
    },
    {
      "cell_type": "markdown",
      "metadata": {
        "id": "3zGGT4xRWtTE",
        "colab_type": "text"
      },
      "source": [
        "#####tf.keras models are optimized to make estimates of a batch or collection at a time. Accordingly, even if you use a single image, you must add it to the list.\n"
      ]
    },
    {
      "cell_type": "code",
      "metadata": {
        "id": "Bo7nHw8hEaqF",
        "colab_type": "code",
        "outputId": "3865e6a6-f43d-4fee-d04c-680d74b93d1b",
        "colab": {
          "base_uri": "https://localhost:8080/",
          "height": 34
        }
      },
      "source": [
        "img = (np.expand_dims(img,0))\n",
        "print(img.shape)"
      ],
      "execution_count": 66,
      "outputs": [
        {
          "output_type": "stream",
          "text": [
            "(1, 28, 28)\n"
          ],
          "name": "stdout"
        }
      ]
    },
    {
      "cell_type": "code",
      "metadata": {
        "id": "OJ7Ymx6iEaoS",
        "colab_type": "code",
        "outputId": "3a49ffe5-630c-4fb2-c113-6ee1d9e04e65",
        "colab": {
          "base_uri": "https://localhost:8080/",
          "height": 51
        }
      },
      "source": [
        "predicitonsSingle = model.predict(img)\n",
        "print(predicitonsSingle)"
      ],
      "execution_count": 67,
      "outputs": [
        {
          "output_type": "stream",
          "text": [
            "[[1.4688687e-04 8.3230150e-12 3.8782611e-01 7.4905648e-07 1.8762043e-01\n",
            "  9.2567120e-08 4.2435834e-01 1.3177724e-11 4.7496695e-05 1.2392880e-12]]\n"
          ],
          "name": "stdout"
        }
      ]
    },
    {
      "cell_type": "code",
      "metadata": {
        "id": "Q8_O18wxEaf7",
        "colab_type": "code",
        "outputId": "684ae3c7-d6e7-42f5-9a96-ba7b71a3be1c",
        "colab": {
          "base_uri": "https://localhost:8080/",
          "height": 317
        }
      },
      "source": [
        "plotValueArray(1, predicitonsSingle[0], test_labels)\n",
        "_ = plt.xticks(range(10), class_names, rotation=45)\n",
        "print(np.argmax(predicitonsSingle[0]))"
      ],
      "execution_count": 68,
      "outputs": [
        {
          "output_type": "stream",
          "text": [
            "6\n"
          ],
          "name": "stdout"
        },
        {
          "output_type": "display_data",
          "data": {
            "image/png": "[encoded data removed]",
            "text/plain": [
              "<Figure size 432x288 with 1 Axes>"
            ]
          },
          "metadata": {
            "tags": []
          }
        }
      ]
    },
    {
      "cell_type": "markdown",
      "metadata": {
        "id": "bKEHfMQNdG0y",
        "colab_type": "text"
      },
      "source": [
        "![alt text](https://previews.123rf.com/images/stylephotographs/stylephotographs1701/stylephotographs170100276/70612476-hand-writing-thank-you-in-many-languages-on-a-chalkboard.jpg)"
      ]
    }
  ]
}