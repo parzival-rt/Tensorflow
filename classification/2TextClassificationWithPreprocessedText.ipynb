{
  "nbformat": 4,
  "nbformat_minor": 0,
  "metadata": {
    "colab": {
      "name": "2TextClassificationWithPreprocessedText.ipynb",
      "provenance": [],
      "collapsed_sections": []
    },
    "kernelspec": {
      "name": "python3",
      "display_name": "Python 3"
    }
  },
  "cells": [
    {
      "cell_type": "markdown",
      "metadata": {
        "id": "CsErHyB870J2",
        "colab_type": "text"
      },
      "source": [
        "#**Text classification with preprocessed text: Movie reviews**"
      ]
    },
    {
      "cell_type": "code",
      "metadata": {
        "id": "IyeONSgZ7ZHE",
        "colab_type": "code",
        "colab": {
          "base_uri": "https://localhost:8080/",
          "height": 34
        },
        "outputId": "17ddcc2a-7016-4857-87a6-eacbc28c6b3d"
      },
      "source": [
        "import tensorflow as tf\n",
        "from tensorflow import keras\n",
        "!pip install -q tensorflow-datasets\n",
        "import tensorflow_datasets as tfds\n",
        "tfds.disable_progress_bar()\n",
        "if tf.__version__ != '2.0.0':\n",
        "  !pip install tensorflow==2.0.0\n",
        "  print(\"** Tensorflow updated **\")\n",
        "print(\"Tensorflow version : \",tf.__version__)"
      ],
      "execution_count": 1,
      "outputs": [
        {
          "output_type": "stream",
          "text": [
            "Tensorflow version :  2.0.0\n"
          ],
          "name": "stdout"
        }
      ]
    },
    {
      "cell_type": "markdown",
      "metadata": {
        "id": "QExVnKqs0rdN",
        "colab_type": "text"
      },
      "source": [
        "#**Download the IMDB dataset**\n",
        "It has already been preprocessed so that the reviews (sequences of words) have been converted to sequences of integers, where each integer represents a specific word in a dictionary."
      ]
    },
    {
      "cell_type": "code",
      "metadata": {
        "id": "WSch3zl375j-",
        "colab_type": "code",
        "colab": {
          "base_uri": "https://localhost:8080/",
          "height": 207
        },
        "outputId": "262d6534-b709-4506-db54-f5b0b7f9ccd1"
      },
      "source": [
        "(trainData, testData), info = tfds.load(\n",
        "    # Use the version pre-encoded with an ~8k vocabulary.\n",
        "    'imdb_reviews/subwords8k',\n",
        "    # Return the train/test datasets as a tuple\n",
        "    split = (tfds.Split.TRAIN, tfds.Split.TEST),\n",
        "    # Return (example, label) pairs from the dataset (instead of a dictionary).\n",
        "    as_supervised = True,\n",
        "    # Also return the `info` structure. \n",
        "    with_info=True)"
      ],
      "execution_count": 2,
      "outputs": [
        {
          "output_type": "stream",
          "text": [
            "\u001b[1mDownloading and preparing dataset imdb_reviews (80.23 MiB) to /root/tensorflow_datasets/imdb_reviews/subwords8k/0.1.0...\u001b[0m\n",
            "WARNING:tensorflow:From /usr/local/lib/python3.6/dist-packages/tensorflow_datasets/core/file_format_adapter.py:209: tf_record_iterator (from tensorflow.python.lib.io.tf_record) is deprecated and will be removed in a future version.\n",
            "Instructions for updating:\n",
            "Use eager execution and: \n",
            "`tf.data.TFRecordDataset(path)`\n"
          ],
          "name": "stdout"
        },
        {
          "output_type": "stream",
          "text": [
            "WARNING:tensorflow:From /usr/local/lib/python3.6/dist-packages/tensorflow_datasets/core/file_format_adapter.py:209: tf_record_iterator (from tensorflow.python.lib.io.tf_record) is deprecated and will be removed in a future version.\n",
            "Instructions for updating:\n",
            "Use eager execution and: \n",
            "`tf.data.TFRecordDataset(path)`\n"
          ],
          "name": "stderr"
        },
        {
          "output_type": "stream",
          "text": [
            "\u001b[1mDataset imdb_reviews downloaded and prepared to /root/tensorflow_datasets/imdb_reviews/subwords8k/0.1.0. Subsequent calls will reuse this data.\u001b[0m\n"
          ],
          "name": "stdout"
        }
      ]
    },
    {
      "cell_type": "markdown",
      "metadata": {
        "id": "DMkZoN6t5VR2",
        "colab_type": "text"
      },
      "source": [
        "#**Try the encoder**\n",
        "The dataset info includes the text encoder (a tfds.features.text.SubwordTextEncoder)."
      ]
    },
    {
      "cell_type": "code",
      "metadata": {
        "id": "vtAZcbSF75uL",
        "colab_type": "code",
        "colab": {}
      },
      "source": [
        "encoder = info.features['text'].encoder"
      ],
      "execution_count": 0,
      "outputs": []
    },
    {
      "cell_type": "code",
      "metadata": {
        "id": "752bdcTU75y5",
        "colab_type": "code",
        "colab": {
          "base_uri": "https://localhost:8080/",
          "height": 34
        },
        "outputId": "fd6897dd-5d37-4b44-9e74-a28538ddd93c"
      },
      "source": [
        "print(\"Vocabulary size : {}\".format(encoder.vocab_size))"
      ],
      "execution_count": 4,
      "outputs": [
        {
          "output_type": "stream",
          "text": [
            "Vocabulary size : 8185\n"
          ],
          "name": "stdout"
        }
      ]
    },
    {
      "cell_type": "markdown",
      "metadata": {
        "id": "yz8yeGS-6C1G",
        "colab_type": "text"
      },
      "source": [
        "This text encoder will reversibly encode any string:"
      ]
    },
    {
      "cell_type": "code",
      "metadata": {
        "id": "1i-oQDBe751e",
        "colab_type": "code",
        "colab": {
          "base_uri": "https://localhost:8080/",
          "height": 51
        },
        "outputId": "44677a25-002f-4087-ec97-b3ac2db91506"
      },
      "source": [
        "sampleString = \"Hello Tensorflow\"\n",
        "encodedString = encoder.encode(sampleString)\n",
        "print(\"Encoded string : {}\".format(encodedString))\n",
        "originalString = encoder.decode(encodedString)\n",
        "print(\"The original string : {}\".format(originalString))\n",
        "\n",
        "#assert originalString == sampleString\n"
      ],
      "execution_count": 5,
      "outputs": [
        {
          "output_type": "stream",
          "text": [
            "Encoded string : [4025, 222, 6307, 2327, 2934]\n",
            "The original string : Hello Tensorflow\n"
          ],
          "name": "stdout"
        }
      ]
    },
    {
      "cell_type": "markdown",
      "metadata": {
        "id": "CjQEfYYA8jt8",
        "colab_type": "text"
      },
      "source": [
        "The encoder encodes the string by breaking it into subwords or characters if the word is not in its dictionary. So the more a string resembles the dataset, the shorter the encoded representation will be."
      ]
    },
    {
      "cell_type": "code",
      "metadata": {
        "id": "0xc_MmXF756C",
        "colab_type": "code",
        "colab": {
          "base_uri": "https://localhost:8080/",
          "height": 102
        },
        "outputId": "a03571f2-cc87-4fe6-b2a0-9a269ea99ef5"
      },
      "source": [
        "for ts in encodedString:\n",
        "  print(\"{} --> {}\".format(ts, encoder.decode([ts])))"
      ],
      "execution_count": 6,
      "outputs": [
        {
          "output_type": "stream",
          "text": [
            "4025 --> Hell\n",
            "222 --> o \n",
            "6307 --> Ten\n",
            "2327 --> sor\n",
            "2934 --> flow\n"
          ],
          "name": "stdout"
        }
      ]
    },
    {
      "cell_type": "markdown",
      "metadata": {
        "id": "KCaLGxCP-G0p",
        "colab_type": "text"
      },
      "source": [
        "#**Explore the data**\n",
        "* Let's take a moment to understand the format of the data. The dataset comes preprocessed: each example is an array of integers representing the words of the movie review.\n",
        "* The text of reviews have been converted to integers, where each integer represents a specific word-piece in the dictionary.\n",
        "* Each label is an integer value of either 0 or 1, where 0 is a negative review, and 1 is a positive review."
      ]
    },
    {
      "cell_type": "code",
      "metadata": {
        "id": "d98vl-kz758s",
        "colab_type": "code",
        "colab": {
          "base_uri": "https://localhost:8080/",
          "height": 51
        },
        "outputId": "89883d02-4cb3-4aec-b3d2-1fec3268a9ca"
      },
      "source": [
        "for trainExample, trainLabel in trainData.take(1):\n",
        "  print(\"Encoding text : {]}\",trainExample[:10].numpy())\n",
        "  print(\"Label : \",trainLabel.numpy())"
      ],
      "execution_count": 7,
      "outputs": [
        {
          "output_type": "stream",
          "text": [
            "Encoding text : {]} [ 249    4  277  309  560    6 6639 4574    2   12]\n",
            "Label :  1\n"
          ],
          "name": "stdout"
        }
      ]
    },
    {
      "cell_type": "code",
      "metadata": {
        "id": "APJUW6op76F5",
        "colab_type": "code",
        "colab": {
          "base_uri": "https://localhost:8080/",
          "height": 54
        },
        "outputId": "33b196da-7ce4-4dcb-c885-cf5454ebb114"
      },
      "source": [
        "encoder.decode(trainExample)"
      ],
      "execution_count": 8,
      "outputs": [
        {
          "output_type": "execute_result",
          "data": {
            "text/plain": [
              "\"As a lifelong fan of Dickens, I have invariably been disappointed by adaptations of his novels.<br /><br />Although his works presented an extremely accurate re-telling of human life at every level in Victorian Britain, throughout them all was a pervasive thread of humour that could be both playful or sarcastic as the narrative dictated. In a way, he was a literary caricaturist and cartoonist. He could be serious and hilarious in the same sentence. He pricked pride, lampooned arrogance, celebrated modesty, and empathised with loneliness and poverty. It may be a cliché, but he was a people's writer.<br /><br />And it is the comedy that is so often missing from his interpretations. At the time of writing, Oliver Twist is being dramatised in serial form on BBC television. All of the misery and cruelty is their, but non of the humour, irony, and savage lampoonery. The result is just a dark, dismal experience: the story penned by a journalist rather than a novelist. It's not really Dickens at all.<br /><br />'Oliver!', on the other hand, is much closer to the mark. The mockery of officialdom is perfectly interpreted, from the blustering beadle to the drunken magistrate. The classic stand-off between the beadle and Mr Brownlow, in which the law is described as 'a ass, a idiot' couldn't have been better done. Harry Secombe is an ideal choice.<br /><br />But the blinding cruelty is also there, the callous indifference of the state, the cold, hunger, poverty and loneliness are all presented just as surely as The Master would have wished.<br /><br />And then there is crime. Ron Moody is a treasure as the sleazy Jewish fence, whilst Oliver Reid has Bill Sykes to perfection.<br /><br />Perhaps not surprisingly, Lionel Bart - himself a Jew from London's east-end - takes a liberty with Fagin by re-interpreting him as a much more benign fellow than was Dicken's original. In the novel, he was utterly ruthless, sending some of his own boys to the gallows in order to protect himself (though he was also caught and hanged). Whereas in the movie, he is presented as something of a wayward father-figure, a sort of charitable thief rather than a corrupter of children, the latter being a long-standing anti-semitic sentiment. Otherwise, very few liberties are taken with Dickens's original. All of the most memorable elements are included. Just enough menace and violence is retained to ensure narrative fidelity whilst at the same time allowing for children' sensibilities. Nancy is still beaten to death, Bullseye narrowly escapes drowning, and Bill Sykes gets a faithfully graphic come-uppance.<br /><br />Every song is excellent, though they do incline towards schmaltz. Mark Lester mimes his wonderfully. Both his and my favourite scene is the one in which the world comes alive to 'who will buy'. It's schmaltzy, but it's Dickens through and through.<br /><br />I could go on. I could commend the wonderful set-pieces, the contrast of the rich and poor. There is top-quality acting from more British regulars than you could shake a stick at.<br /><br />I ought to give it 10 points, but I'm feeling more like Scrooge today. Soak it up with your Christmas dinner. No original has been better realised.\""
            ]
          },
          "metadata": {
            "tags": []
          },
          "execution_count": 8
        }
      ]
    },
    {
      "cell_type": "markdown",
      "metadata": {
        "id": "1jK2lHCYAAaW",
        "colab_type": "text"
      },
      "source": [
        "#**Prepare the data for training**\n",
        "The reviews are all different lengths, so use padded_batch to zero pad the sequences while batching:"
      ]
    },
    {
      "cell_type": "code",
      "metadata": {
        "id": "71RDTJF176Kb",
        "colab_type": "code",
        "colab": {}
      },
      "source": [
        "BUFFER_SIZE = 1000\n",
        "trainBatches = (trainData.shuffle(BUFFER_SIZE).padded_batch(32, trainData.output_shapes))\n",
        "testBatches = testData.padded_batch(32, trainData.output_shapes)"
      ],
      "execution_count": 0,
      "outputs": []
    },
    {
      "cell_type": "markdown",
      "metadata": {
        "id": "ZHYNqiskBMMi",
        "colab_type": "text"
      },
      "source": [
        "Each batch will have a shape of (batch_size, sequence_length) because the padding is dynamic each batch will have a different length:"
      ]
    },
    {
      "cell_type": "code",
      "metadata": {
        "id": "562YVXNY76Of",
        "colab_type": "code",
        "colab": {
          "base_uri": "https://localhost:8080/",
          "height": 85
        },
        "outputId": "a58a97bc-393c-4aa4-8262-f2fd86a3f260"
      },
      "source": [
        "for exampleBatch, labelBatch in trainBatches.take(2):\n",
        "  print(\"Batch shape : \",exampleBatch.shape)\n",
        "  print(\"Label : \",labelBatch.shape)"
      ],
      "execution_count": 10,
      "outputs": [
        {
          "output_type": "stream",
          "text": [
            "Batch shape :  (32, 1031)\n",
            "Label :  (32,)\n",
            "Batch shape :  (32, 1084)\n",
            "Label :  (32,)\n"
          ],
          "name": "stdout"
        }
      ]
    },
    {
      "cell_type": "markdown",
      "metadata": {
        "id": "LpxIesGnB_fv",
        "colab_type": "text"
      },
      "source": [
        "#**Build the model**\n",
        "In this example, the input data consists of an array of word-indices. The labels to predict are either 0 or 1. Let's build a \"Continuous bag of words\" style model for this problem"
      ]
    },
    {
      "cell_type": "code",
      "metadata": {
        "id": "IwMr2lDS76IZ",
        "colab_type": "code",
        "colab": {
          "base_uri": "https://localhost:8080/",
          "height": 255
        },
        "outputId": "6a20dfaf-83b7-4cd3-fe4d-cc0ff4a3b1e4"
      },
      "source": [
        "model = keras.Sequential([\n",
        "  keras.layers.Embedding(encoder.vocab_size, 16),\n",
        "  keras.layers.GlobalAveragePooling1D(),\n",
        "  keras.layers.Dense(1, activation='sigmoid')])\n",
        "model.summary()"
      ],
      "execution_count": 11,
      "outputs": [
        {
          "output_type": "stream",
          "text": [
            "Model: \"sequential\"\n",
            "_________________________________________________________________\n",
            "Layer (type)                 Output Shape              Param #   \n",
            "=================================================================\n",
            "embedding (Embedding)        (None, None, 16)          130960    \n",
            "_________________________________________________________________\n",
            "global_average_pooling1d (Gl (None, 16)                0         \n",
            "_________________________________________________________________\n",
            "dense (Dense)                (None, 1)                 17        \n",
            "=================================================================\n",
            "Total params: 130,977\n",
            "Trainable params: 130,977\n",
            "Non-trainable params: 0\n",
            "_________________________________________________________________\n"
          ],
          "name": "stdout"
        }
      ]
    },
    {
      "cell_type": "markdown",
      "metadata": {
        "id": "6y8vOJurMF1l",
        "colab_type": "text"
      },
      "source": [
        "##The layers are stacked sequentially to build the classifier:\n",
        "1. The first layer is an Embedding layer. This layer takes the integer-encoded vocabulary and looks up the embedding vector for each word-index. These vectors are learned as the model trains. The vectors add a dimension to the output array. The resulting dimensions are: (batch, sequence, embedding).\n",
        "2. Next, a GlobalAveragePooling1D layer returns a fixed-length output vector for each example by averaging over the sequence dimension. This allows the model to handle input of variable length, in the simplest way possible.\n",
        "3. This fixed-length output vector is piped through a fully-connected (Dense) layer with 16 hidden units.\n",
        "4. The last layer is densely connected with a single output node. Using the sigmoid activation function, this value is a float between 0 and 1, representing a probability, or confidence level.\n",
        "\n"
      ]
    },
    {
      "cell_type": "markdown",
      "metadata": {
        "id": "VkDSXJ6HM0xr",
        "colab_type": "text"
      },
      "source": [
        "###Hidden units\n",
        "If a model has more hidden units (a higher-dimensional representation space), and/or more layers, then the network can learn more complex representations. However, it makes the network more computationally expensive and may lead to learning unwanted patterns—patterns that improve performance on training data but not on the test data. This is called overfitting, and we'll explore it later."
      ]
    },
    {
      "cell_type": "markdown",
      "metadata": {
        "id": "v3U0YRMvNEVj",
        "colab_type": "text"
      },
      "source": [
        "#**Loss function and optimizer**"
      ]
    },
    {
      "cell_type": "code",
      "metadata": {
        "id": "2thjrsVP76D7",
        "colab_type": "code",
        "colab": {}
      },
      "source": [
        "model.compile(optimizer='adam',\n",
        "              loss='binary_crossentropy', # mean_squared_error\n",
        "              metrics=['accuracy'])"
      ],
      "execution_count": 0,
      "outputs": []
    },
    {
      "cell_type": "markdown",
      "metadata": {
        "id": "abz_QSCfNkEw",
        "colab_type": "text"
      },
      "source": [
        "#**Train the model**"
      ]
    },
    {
      "cell_type": "code",
      "metadata": {
        "id": "eSFtsqiw76BY",
        "colab_type": "code",
        "colab": {
          "base_uri": "https://localhost:8080/",
          "height": 357
        },
        "outputId": "07d55ffc-f098-4a85-97ce-c1e298f3b28e"
      },
      "source": [
        "history = model.fit(trainBatches,\n",
        "                   epochs=10,\n",
        "                   validation_data=testBatches,\n",
        "                   validation_steps=30)"
      ],
      "execution_count": 13,
      "outputs": [
        {
          "output_type": "stream",
          "text": [
            "Epoch 1/10\n",
            "782/782 [==============================] - 14s 18ms/step - loss: 0.6823 - accuracy: 0.6257 - val_loss: 0.0000e+00 - val_accuracy: 0.0000e+00\n",
            "Epoch 2/10\n",
            "782/782 [==============================] - 10s 13ms/step - loss: 0.6258 - accuracy: 0.7499 - val_loss: 0.6011 - val_accuracy: 0.7625\n",
            "Epoch 3/10\n",
            "782/782 [==============================] - 11s 14ms/step - loss: 0.5476 - accuracy: 0.8018 - val_loss: 0.5341 - val_accuracy: 0.8083\n",
            "Epoch 4/10\n",
            "782/782 [==============================] - 11s 14ms/step - loss: 0.4797 - accuracy: 0.8388 - val_loss: 0.4794 - val_accuracy: 0.8250\n",
            "Epoch 5/10\n",
            "782/782 [==============================] - 11s 14ms/step - loss: 0.4280 - accuracy: 0.8629 - val_loss: 0.4379 - val_accuracy: 0.8604\n",
            "Epoch 6/10\n",
            "782/782 [==============================] - 11s 14ms/step - loss: 0.3851 - accuracy: 0.8737 - val_loss: 0.4042 - val_accuracy: 0.8604\n",
            "Epoch 7/10\n",
            "782/782 [==============================] - 11s 14ms/step - loss: 0.3548 - accuracy: 0.8848 - val_loss: 0.3802 - val_accuracy: 0.8677\n",
            "Epoch 8/10\n",
            "782/782 [==============================] - 11s 14ms/step - loss: 0.3270 - accuracy: 0.8920 - val_loss: 0.3586 - val_accuracy: 0.8729\n",
            "Epoch 9/10\n",
            "782/782 [==============================] - 11s 14ms/step - loss: 0.3067 - accuracy: 0.8988 - val_loss: 0.3429 - val_accuracy: 0.8802\n",
            "Epoch 10/10\n",
            "782/782 [==============================] - 11s 14ms/step - loss: 0.2890 - accuracy: 0.9043 - val_loss: 0.3308 - val_accuracy: 0.8844\n"
          ],
          "name": "stdout"
        }
      ]
    },
    {
      "cell_type": "markdown",
      "metadata": {
        "id": "Ig_DeTYROUjH",
        "colab_type": "text"
      },
      "source": [
        "#**Evaluate the model**\n",
        "And let's see how the model performs"
      ]
    },
    {
      "cell_type": "code",
      "metadata": {
        "id": "6bFQRPgU75_7",
        "colab_type": "code",
        "colab": {
          "base_uri": "https://localhost:8080/",
          "height": 68
        },
        "outputId": "6323ce0d-6a77-4061-9137-f96c4e6c9dd6"
      },
      "source": [
        "loss, accuracy = model.evaluate(testBatches)\n",
        "print(\"Loss : \",loss)\n",
        "print(\"Accuracy : \",accuracy)\n"
      ],
      "execution_count": 14,
      "outputs": [
        {
          "output_type": "stream",
          "text": [
            "782/782 [==============================] - 9s 12ms/step - loss: 0.3345 - accuracy: 0.8734\n",
            "Loss :  0.3344910777533603\n",
            "Accuracy :  0.87344\n"
          ],
          "name": "stdout"
        }
      ]
    },
    {
      "cell_type": "markdown",
      "metadata": {
        "id": "ImJVd-cIPNN8",
        "colab_type": "text"
      },
      "source": [
        "#**Create a graph of accuracy and loss over time**"
      ]
    },
    {
      "cell_type": "code",
      "metadata": {
        "id": "_iPSOrtL754h",
        "colab_type": "code",
        "colab": {
          "base_uri": "https://localhost:8080/",
          "height": 34
        },
        "outputId": "dbc06e42-d58a-46f9-a831-c15a3c9549b5"
      },
      "source": [
        "historyDict = history.history\n",
        "historyDict.keys()"
      ],
      "execution_count": 15,
      "outputs": [
        {
          "output_type": "execute_result",
          "data": {
            "text/plain": [
              "dict_keys(['loss', 'accuracy', 'val_loss', 'val_accuracy'])"
            ]
          },
          "metadata": {
            "tags": []
          },
          "execution_count": 15
        }
      ]
    },
    {
      "cell_type": "markdown",
      "metadata": {
        "id": "JP6F2cVoP1fg",
        "colab_type": "text"
      },
      "source": [
        "There are four entries. We can use these to plot the training and validation loss for comparison, as well as the training and validation accuracy"
      ]
    },
    {
      "cell_type": "code",
      "metadata": {
        "id": "GhP3nEM475x6",
        "colab_type": "code",
        "colab": {
          "base_uri": "https://localhost:8080/",
          "height": 295
        },
        "outputId": "c9020f7f-2caf-4275-9be6-857de1472126"
      },
      "source": [
        "import matplotlib.pyplot as plt\n",
        "\n",
        "acc = historyDict['accuracy']\n",
        "valAcc = historyDict['val_accuracy']\n",
        "loss = historyDict['loss']\n",
        "valLoss = historyDict['val_loss']\n",
        "\n",
        "epochs = range(1, len(acc)+1)\n",
        "\n",
        "plt.plot(epochs, loss, 'bo', label='Training Loss') # 'bo' is for blue dot\n",
        "plt.plot(epochs, valLoss, 'b', label='Validation Loss') # 'b' is for solid blue line\n",
        "plt.title('Training and Validation Loss')\n",
        "plt.xlabel('Epochs')\n",
        "plt.ylabel('Loss')\n",
        "plt.legend() # graph information\n",
        "plt.show()\n",
        "\n"
      ],
      "execution_count": 16,
      "outputs": [
        {
          "output_type": "display_data",
          "data": {
            "image/png": "[encoded data removed]",
            "text/plain": [
              "<Figure size 432x288 with 1 Axes>"
            ]
          },
          "metadata": {
            "tags": []
          }
        }
      ]
    },
    {
      "cell_type": "code",
      "metadata": {
        "id": "DckAUJj_Piet",
        "colab_type": "code",
        "colab": {
          "base_uri": "https://localhost:8080/",
          "height": 295
        },
        "outputId": "02c88c0d-d9af-4c07-d840-6aaf53789998"
      },
      "source": [
        "plt.clf() # clear figure\n",
        "\n",
        "plt.plot(epochs, acc, 'bo', label='Training Acc')\n",
        "plt.plot(epochs, valAcc, 'b', label='Validation Acc')\n",
        "plt.title('Training and Validation Acc')\n",
        "plt.xlabel('Epochs')\n",
        "plt.ylabel('Acc')\n",
        "plt.legend(loc='lower right')\n",
        "plt.show()\n"
      ],
      "execution_count": 17,
      "outputs": [
        {
          "output_type": "display_data",
          "data": {
            "image/png": "[encoded data removed]",
            "text/plain": [
              "<Figure size 432x288 with 1 Axes>"
            ]
          },
          "metadata": {
            "tags": []
          }
        }
      ]
    },
    {
      "cell_type": "markdown",
      "metadata": {
        "id": "-twrOguuXYXP",
        "colab_type": "text"
      },
      "source": [
        "This is an example of **overfitting**. The model performs better on the training data than it does on data it has never seen before. After this point, the model over-optimizes and learns representations specific to the training data that do not generalize to test data."
      ]
    },
    {
      "cell_type": "markdown",
      "metadata": {
        "id": "LlZpZJc9XeM3",
        "colab_type": "text"
      },
      "source": [
        "#**The End**"
      ]
    }
  ]
}