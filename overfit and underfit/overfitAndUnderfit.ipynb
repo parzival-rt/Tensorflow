{
  "nbformat": 4,
  "nbformat_minor": 0,
  "metadata": {
    "colab": {
      "name": "overfitAndUnderfit.ipynb",
      "provenance": [],
      "collapsed_sections": []
    },
    "kernelspec": {
      "name": "python3",
      "display_name": "Python 3"
    }
  },
  "cells": [
    {
      "cell_type": "markdown",
      "metadata": {
        "id": "_kpJACc76REP",
        "colab_type": "text"
      },
      "source": [
        "#**Overfiting and Underfiting**"
      ]
    },
    {
      "cell_type": "markdown",
      "metadata": {
        "id": "KiHNkoHs5w2-",
        "colab_type": "text"
      },
      "source": [
        "* Learning how to deal with overfitting is important. Although it's often possible to achieve high accuracy on the training set, what we really want is to develop models that generalize well to a testing set (or data they haven't seen before).\n",
        "* The opposite of overfitting is underfitting. Underfitting occurs when there is still room for improvement on the test data. This can happen for a number of reasons: If the model is not powerful enough, is over-regularized, or has simply not been trained long enough. This means the network has not learned the relevant patterns in the training data.\n",
        "* If you train for too long though, the model will start to overfit and learn patterns from the training data that don't generalize to the test data. We need to strike a balance. Understanding how to train for an appropriate number of epochs as we'll explore below is a useful skill.\n",
        "* To prevent overfitting, the best solution is to use more complete training data. The dataset should cover the full range of inputs that the model is expected to handle. Additional data may only be useful if it covers new and and interesting cases.\n",
        "* A model trained on more complete data will naturally generalize better. When that is no longer possible, the next best solution is to use techniques like regularization. These place constraints on the quantity and type of information your model can store. If a network can only afford to memorize a small number of patterns, the optimization process will force it to focus on the most prominent patterns, which have a better chance of generalizing well.\n",
        "#####**Let's start**\n"
      ]
    },
    {
      "cell_type": "code",
      "metadata": {
        "id": "S6UVt-3SzDWv",
        "colab_type": "code",
        "outputId": "c8d1ae23-47ea-413a-c6a5-3d089fec5d98",
        "colab": {
          "base_uri": "https://localhost:8080/",
          "height": 51
        }
      },
      "source": [
        "# overfitAndUnderfit.ipynb\n",
        "!pip install -q git+https://github.com/tensorflow/docs\n",
        "import tensorflow as tf\n",
        "if tf.__version__ != '2.0.0':\n",
        "  !pip install tensorflow==2.0.0\n",
        "from tensorflow.keras import layers\n",
        "from tensorflow.keras import regularizers\n",
        "import tensorflow_docs as tfdocs\n",
        "import tensorflow_docs.modeling\n",
        "import tensorflow_docs.plots\n",
        "from IPython import display\n",
        "from matplotlib import pyplot as plt\n",
        "import numpy as np\n",
        "import pathlib\n",
        "import shutil\n",
        "import tempfile\n",
        "!pip install -U tensorboard >piplog 2>&1\n",
        "print(\"Your tf version : \",tf.__version__)\n"
      ],
      "execution_count": 1,
      "outputs": [
        {
          "output_type": "stream",
          "text": [
            "  Building wheel for tensorflow-docs (setup.py) ... \u001b[?25l\u001b[?25hdone\n",
            "Your tf version :  2.0.0\n"
          ],
          "name": "stdout"
        }
      ]
    },
    {
      "cell_type": "code",
      "metadata": {
        "id": "AjCh3MmSZ_oA",
        "colab_type": "code",
        "outputId": "f4492c63-20d4-4f9a-c8b0-0d1efe4febbd",
        "colab": {
          "base_uri": "https://localhost:8080/",
          "height": 34
        }
      },
      "source": [
        "logdir = pathlib.Path(tempfile.mkdtemp())/\"tensorboard_logs\"\n",
        "shutil.rmtree(logdir, ignore_errors=True)\n",
        "tempfile.mkdtemp()"
      ],
      "execution_count": 2,
      "outputs": [
        {
          "output_type": "execute_result",
          "data": {
            "text/plain": [
              "'/tmp/tmpdzo5f59z'"
            ]
          },
          "metadata": {
            "tags": []
          },
          "execution_count": 2
        }
      ]
    },
    {
      "cell_type": "markdown",
      "metadata": {
        "id": "nHi1bL0A7rXc",
        "colab_type": "text"
      },
      "source": [
        "##**The Higgs Dataset**\n",
        "It contains 11 000 000 examples, each with 28 features, and a binary class label."
      ]
    },
    {
      "cell_type": "code",
      "metadata": {
        "id": "HToU7_g63bOw",
        "colab_type": "code",
        "outputId": "d0bc59c9-5f95-4057-92fd-04ab7350545c",
        "colab": {
          "base_uri": "https://localhost:8080/",
          "height": 51
        }
      },
      "source": [
        "gz = tf.keras.utils.get_file('HIGGS.csv.gz', 'https://archive.ics.uci.edu/ml/machine-learning-databases/00280/HIGGS.csv.gz')"
      ],
      "execution_count": 3,
      "outputs": [
        {
          "output_type": "stream",
          "text": [
            "Downloading data from https://archive.ics.uci.edu/ml/machine-learning-databases/00280/HIGGS.csv.gz\n",
            "2816409600/2816407858 [==============================] - 63s 0us/step\n"
          ],
          "name": "stdout"
        }
      ]
    },
    {
      "cell_type": "code",
      "metadata": {
        "id": "jSzQY0cE85tw",
        "colab_type": "code",
        "colab": {}
      },
      "source": [
        "FEATURES = 28"
      ],
      "execution_count": 0,
      "outputs": []
    },
    {
      "cell_type": "markdown",
      "metadata": {
        "id": "bdZGGEzr8SI0",
        "colab_type": "text"
      },
      "source": [
        "The tf.data.experimental.CsvDataset class can be used to read csv records directly from a gzip file with no intermediate decompression step."
      ]
    },
    {
      "cell_type": "code",
      "metadata": {
        "id": "DaetwXUYZ_sn",
        "colab_type": "code",
        "colab": {}
      },
      "source": [
        "ds = tf.data.experimental.CsvDataset(gz, [float(), ]*(FEATURES+1), compression_type=\"GZIP\")"
      ],
      "execution_count": 0,
      "outputs": []
    },
    {
      "cell_type": "markdown",
      "metadata": {
        "id": "YaBQjfJG9BvG",
        "colab_type": "text"
      },
      "source": [
        "That csv reader class returns a list of scalars for each record. The following function repacks that list of scalars into a (feature_vector, label) pair."
      ]
    },
    {
      "cell_type": "code",
      "metadata": {
        "id": "a6PA1IM_Z_vG",
        "colab_type": "code",
        "colab": {}
      },
      "source": [
        "def packRow(*row):\n",
        "  label = row[0]\n",
        "  features = tf.stack(row[1:], 1)\n",
        "  return features , label"
      ],
      "execution_count": 0,
      "outputs": []
    },
    {
      "cell_type": "markdown",
      "metadata": {
        "id": "-7huFsyc-WiV",
        "colab_type": "text"
      },
      "source": [
        "TensorFlow is most efficient when operating on large batches of data.\n",
        "\n",
        "So instead of repacking each row individually make a new Dataset that takes batches of 10000-examples, applies the pack_row function to each batch, and then splits the batches back up into individual records:"
      ]
    },
    {
      "cell_type": "code",
      "metadata": {
        "id": "bsrirsvzZ_xr",
        "colab_type": "code",
        "colab": {}
      },
      "source": [
        "packedDs = ds.batch(10000).map(packRow).unbatch()"
      ],
      "execution_count": 0,
      "outputs": []
    },
    {
      "cell_type": "markdown",
      "metadata": {
        "id": "yrJMNuAD_DeY",
        "colab_type": "text"
      },
      "source": [
        "Have a look at some of the records from this new packed_ds.\n",
        "\n",
        "The features are not perfectly normalized, but this is sufficient for this tutorial."
      ]
    },
    {
      "cell_type": "code",
      "metadata": {
        "id": "JqUAZt3hZ_2C",
        "colab_type": "code",
        "colab": {
          "base_uri": "https://localhost:8080/",
          "height": 367
        },
        "outputId": "099787b3-9fad-49e9-dbf3-273df9f2a079"
      },
      "source": [
        "for features , label in packedDs.batch(1000).take(1):\n",
        "  print(features[0])\n",
        "  plt.hist(features.numpy().flatten(), bins=101)\n",
        "  "
      ],
      "execution_count": 8,
      "outputs": [
        {
          "output_type": "stream",
          "text": [
            "tf.Tensor(\n",
            "[ 0.8692932  -0.6350818   0.22569026  0.32747006 -0.6899932   0.75420225\n",
            " -0.24857314 -1.0920639   0.          1.3749921  -0.6536742   0.9303491\n",
            "  1.1074361   1.1389043  -1.5781983  -1.0469854   0.          0.65792954\n",
            " -0.01045457 -0.04576717  3.1019614   1.35376     0.9795631   0.97807616\n",
            "  0.92000484  0.72165745  0.98875093  0.87667835], shape=(28,), dtype=float32)\n"
          ],
          "name": "stdout"
        },
        {
          "output_type": "display_data",
          "data": {
            "image/png": "[encoded data removed]",
            "text/plain": [
              "<Figure size 432x288 with 1 Axes>"
            ]
          },
          "metadata": {
            "tags": []
          }
        }
      ]
    },
    {
      "cell_type": "markdown",
      "metadata": {
        "id": "Euc6L_XxSLp_",
        "colab_type": "text"
      },
      "source": [
        "Since the data set is too large, let's use only the first 1000 samples for verification and the next 10,000 for training."
      ]
    },
    {
      "cell_type": "code",
      "metadata": {
        "id": "3PbVh5YoZ_5W",
        "colab_type": "code",
        "colab": {}
      },
      "source": [
        "N_VALIDATION = int(1e3) # 1000\n",
        "N_TRAIN = int(1e4)      #10000\n",
        "BUFFER_SIZE = int(1e4)\n",
        "BATCH_SIZE = 500\n",
        "STEPS_PER_EPOCH = N_TRAIN//BATCH_SIZE"
      ],
      "execution_count": 0,
      "outputs": []
    },
    {
      "cell_type": "markdown",
      "metadata": {
        "id": "akTm9nj1Tiuf",
        "colab_type": "text"
      },
      "source": [
        "* The Dataset.skip and Dataset.take methods make this easy.\n",
        "\n",
        "* At the same time, let's use the Dataset.cache method to make sure that the installer does not need to reread the data in the file in each circuit."
      ]
    },
    {
      "cell_type": "code",
      "metadata": {
        "id": "AZ_rTl5yZ_9g",
        "colab_type": "code",
        "colab": {
          "base_uri": "https://localhost:8080/",
          "height": 34
        },
        "outputId": "aeaa2250-09fd-43ea-d36c-867328ba3f57"
      },
      "source": [
        "validateDs = packedDs.take(N_VALIDATION).cache()\n",
        "trainDs = packedDs.skip(N_VALIDATION).take(N_TRAIN).cache()\n",
        "trainDs"
      ],
      "execution_count": 10,
      "outputs": [
        {
          "output_type": "execute_result",
          "data": {
            "text/plain": [
              "<CacheDataset shapes: ((28,), ()), types: (tf.float32, tf.float32)>"
            ]
          },
          "metadata": {
            "tags": []
          },
          "execution_count": 10
        }
      ]
    },
    {
      "cell_type": "markdown",
      "metadata": {
        "id": "0DbgaDjpUUBW",
        "colab_type": "text"
      },
      "source": [
        "These data sets give individual examples. Use the .batch method to create groups of appropriate size for training. Before grouping, remember the .shuffle  and .repeat commands."
      ]
    },
    {
      "cell_type": "code",
      "metadata": {
        "id": "MMLkZ5UVaAFE",
        "colab_type": "code",
        "colab": {}
      },
      "source": [
        "validateDs = validateDs.batch(BATCH_SIZE)\n",
        "trainDs = trainDs.shuffle(BUFFER_SIZE).repeat().batch(BATCH_SIZE)"
      ],
      "execution_count": 0,
      "outputs": []
    },
    {
      "cell_type": "markdown",
      "metadata": {
        "id": "F1enssLMjzI0",
        "colab_type": "text"
      },
      "source": [
        "####**Demonstrate overfitting**\n",
        "* The simplest way to prevent overfitting is to start with a small model: A model with a small number of learnable parameters (which is determined by the number of layers and the number of units per layer). In deep learning, the number of learnable parameters in a model is often referred to as the model's \"capacity\".\n",
        "* Intuitively, a model with more parameters will have more \"memorization capacity\" and therefore will be able to easily learn a perfect dictionary-like mapping between training samples and their targets, a mapping without any generalization power, but this would be useless when making predictions on previously unseen data.\n",
        "* Deep learning models tend to be good at fitting to the training data, but the real challenge is generalization, not fitting.\n",
        "* On the other hand, if the network has limited memorization resources, it will not be able to learn the mapping as easily. To minimize its loss, it will have to learn compressed representations that have more predictive power. At the same time, if you make your model too small, it will have difficulty fitting to the training data. There is a balance between \"too much capacity\" and \"not enough capacity\".\n",
        "* Unfortunately, there is no magical formula to determine the right size or architecture of your model (in terms of the number of layers, or the right size for each layer). You will have to experiment using a series of different architectures.\n",
        "* To find an appropriate model size, it's best to start with relatively few layers and parameters, then begin increasing the size of the layers or adding new layers until you see diminishing returns on the validation loss.\n",
        "* Start with a simple model using only layers.Dense as a baseline, then create larger versions, and compare them."
      ]
    },
    {
      "cell_type": "markdown",
      "metadata": {
        "id": "zlgiyD1dS6Nf",
        "colab_type": "text"
      },
      "source": [
        "#**Training Prodecure**\n",
        "Many models train better if you gradually reduce the learning rate during training. Use **optimizers.schedules** to reduce the learning rate over time"
      ]
    },
    {
      "cell_type": "code",
      "metadata": {
        "id": "MtTlGtEGaAHu",
        "colab_type": "code",
        "colab": {}
      },
      "source": [
        "lrSchedule = tf.keras.optimizers.schedules.InverseTimeDecay( \n",
        "    0.001, # firstLearningRate\n",
        "    decay_steps=STEPS_PER_EPOCH*1000,\n",
        "    decay_rate=1,\n",
        "    staircase=False) # decay like staircase (cornered graph)"
      ],
      "execution_count": 0,
      "outputs": []
    },
    {
      "cell_type": "markdown",
      "metadata": {
        "id": "ZzosV4MpTyAb",
        "colab_type": "text"
      },
      "source": [
        "The code above sets a schedules.InverseTimeDecay to hyperbolically decrease the learning rate to 1/2 of the base rate at 1000 epochs, 1/3 at 2000 epochs and so on."
      ]
    },
    {
      "cell_type": "code",
      "metadata": {
        "id": "xuT_bmUWaAK1",
        "colab_type": "code",
        "colab": {
          "base_uri": "https://localhost:8080/",
          "height": 388
        },
        "outputId": "403864d3-14d8-4a50-f415-24d8b7e18677"
      },
      "source": [
        "step = np.linspace(0, 100000) # np.linspace(start, stop, num=50, ...)  Divides the given range into equal parts\n",
        "lr = lrSchedule(step) \n",
        "plt.figure(figsize=(8,6))\n",
        "plt.plot(step/STEPS_PER_EPOCH, lr)\n",
        "plt.ylim([0, max(plt.ylim())]) # lower and higher value for y axis\n",
        "plt.xlabel('Epoch')\n",
        "_ = plt.ylabel('Learning Rate')"
      ],
      "execution_count": 13,
      "outputs": [
        {
          "output_type": "display_data",
          "data": {
            "image/png": "[encoded data removed]",
            "text/plain": [
              "<Figure size 576x432 with 1 Axes>"
            ]
          },
          "metadata": {
            "tags": []
          }
        }
      ]
    },
    {
      "cell_type": "markdown",
      "metadata": {
        "id": "asZFEJtxA9y4",
        "colab_type": "text"
      },
      "source": [
        "* The training for this tutorial runs for many short epochs. To reduce the logging noise use the tfdocs.EpochDots which simply a . for each epoch and, and a full set of metrics every 100 epochs.\n",
        "* Next include callbacks.EarlyStopping to avoid long and unnecessary training times. Note that this callback is set to monitor the val_binary_crossentropy, not the val_loss. This difference will be important later.\n",
        "* Use **callbacks.TensorBoard** to generate TensorBoard logs for the training."
      ]
    },
    {
      "cell_type": "code",
      "metadata": {
        "id": "tjhRjTU_aAo4",
        "colab_type": "code",
        "colab": {}
      },
      "source": [
        "def getCallBacks(name):\n",
        "  return[\n",
        "    tfdocs.modeling.EpochDots(),\n",
        "    tf.keras.callbacks.EarlyStopping(monitor='val_binary_crossentropy', patience=200),\n",
        "    tf.keras.callbacks.TensorBoard(logdir/name),\n",
        "  ]\n",
        "def getOptimizer():\n",
        "  return tf.keras.optimizers.Adam(lrSchedule)"
      ],
      "execution_count": 0,
      "outputs": []
    },
    {
      "cell_type": "markdown",
      "metadata": {
        "id": "VXLgpkaWCZLi",
        "colab_type": "text"
      },
      "source": [
        "Similarly each model will use the same Model.compile and Model.fit settings."
      ]
    },
    {
      "cell_type": "code",
      "metadata": {
        "id": "SsSrgBQHaAsB",
        "colab_type": "code",
        "colab": {}
      },
      "source": [
        "def compileAndFit(model, name, optimizer=None, maxEpochs=2000):\n",
        "  if optimizer is None:\n",
        "    optimizer = getOptimizer()\n",
        "  model.compile(optimizer=optimizer,\n",
        "                loss='binary_crossentropy',\n",
        "                metrics=['accuracy', 'binary_crossentropy'])\n",
        "  model.summary()\n",
        "\n",
        "  history = model.fit(\n",
        "      trainDs,\n",
        "      steps_per_epoch=STEPS_PER_EPOCH,\n",
        "      epochs=maxEpochs,\n",
        "      validation_data=validateDs,\n",
        "      callbacks=getCallBacks(name),\n",
        "      verbose=0)\n",
        "  return history"
      ],
      "execution_count": 0,
      "outputs": []
    },
    {
      "cell_type": "markdown",
      "metadata": {
        "id": "HF481Ni0Eew6",
        "colab_type": "text"
      },
      "source": [
        "#**Tiny Model**\n",
        "Let's start by educating a linear model"
      ]
    },
    {
      "cell_type": "code",
      "metadata": {
        "id": "-LqHBSjqaAvO",
        "colab_type": "code",
        "colab": {}
      },
      "source": [
        "tinyModel = tf.keras.Sequential([\n",
        "      layers.Dense(16, activation='elu', input_shape=(FEATURES,)),\n",
        "      layers.Dense(1, activation='sigmoid')\n",
        "      ])"
      ],
      "execution_count": 0,
      "outputs": []
    },
    {
      "cell_type": "code",
      "metadata": {
        "id": "PQubNf_PaAh0",
        "colab_type": "code",
        "colab": {
          "base_uri": "https://localhost:8080/",
          "height": 918
        },
        "outputId": "00d8aafd-c52a-45b6-dfad-463a1a59ce97"
      },
      "source": [
        "sizeHistories = {}\n",
        "sizeHistories['Tiny'] = compileAndFit(tinyModel, 'sizes/Tiny')"
      ],
      "execution_count": 17,
      "outputs": [
        {
          "output_type": "stream",
          "text": [
            "Model: \"sequential\"\n",
            "_________________________________________________________________\n",
            "Layer (type)                 Output Shape              Param #   \n",
            "=================================================================\n",
            "dense (Dense)                (None, 16)                464       \n",
            "_________________________________________________________________\n",
            "dense_1 (Dense)              (None, 1)                 17        \n",
            "=================================================================\n",
            "Total params: 481\n",
            "Trainable params: 481\n",
            "Non-trainable params: 0\n",
            "_________________________________________________________________\n",
            "\n",
            "Epoch: 0, accuracy:0.5058,  binary_crossentropy:0.7581,  loss:0.7581,  val_accuracy:0.5040,  val_binary_crossentropy:0.7327,  val_loss:0.7327,  \n",
            "....................................................................................................\n",
            "Epoch: 100, accuracy:0.6483,  binary_crossentropy:0.6285,  loss:0.6285,  val_accuracy:0.6350,  val_binary_crossentropy:0.6299,  val_loss:0.6299,  \n",
            "....................................................................................................\n",
            "Epoch: 200, accuracy:0.6630,  binary_crossentropy:0.6175,  loss:0.6175,  val_accuracy:0.6480,  val_binary_crossentropy:0.6225,  val_loss:0.6225,  \n",
            "....................................................................................................\n",
            "Epoch: 300, accuracy:0.6741,  binary_crossentropy:0.6092,  loss:0.6092,  val_accuracy:0.6440,  val_binary_crossentropy:0.6185,  val_loss:0.6185,  \n",
            "....................................................................................................\n",
            "Epoch: 400, accuracy:0.6814,  binary_crossentropy:0.6028,  loss:0.6028,  val_accuracy:0.6610,  val_binary_crossentropy:0.6128,  val_loss:0.6128,  \n",
            "....................................................................................................\n",
            "Epoch: 500, accuracy:0.6852,  binary_crossentropy:0.5973,  loss:0.5973,  val_accuracy:0.6640,  val_binary_crossentropy:0.6092,  val_loss:0.6092,  \n",
            "....................................................................................................\n",
            "Epoch: 600, accuracy:0.6872,  binary_crossentropy:0.5934,  loss:0.5934,  val_accuracy:0.6710,  val_binary_crossentropy:0.6089,  val_loss:0.6089,  \n",
            "....................................................................................................\n",
            "Epoch: 700, accuracy:0.6899,  binary_crossentropy:0.5897,  loss:0.5897,  val_accuracy:0.6770,  val_binary_crossentropy:0.6012,  val_loss:0.6012,  \n",
            "....................................................................................................\n",
            "Epoch: 800, accuracy:0.6919,  binary_crossentropy:0.5879,  loss:0.5879,  val_accuracy:0.6780,  val_binary_crossentropy:0.6008,  val_loss:0.6008,  \n",
            "....................................................................................................\n",
            "Epoch: 900, accuracy:0.6972,  binary_crossentropy:0.5843,  loss:0.5843,  val_accuracy:0.6800,  val_binary_crossentropy:0.5974,  val_loss:0.5974,  \n",
            "....................................................................................................\n",
            "Epoch: 1000, accuracy:0.6990,  binary_crossentropy:0.5821,  loss:0.5821,  val_accuracy:0.6790,  val_binary_crossentropy:0.5961,  val_loss:0.5961,  \n",
            "....................................................................................................\n",
            "Epoch: 1100, accuracy:0.7015,  binary_crossentropy:0.5800,  loss:0.5800,  val_accuracy:0.6820,  val_binary_crossentropy:0.5948,  val_loss:0.5948,  \n",
            "....................................................................................................\n",
            "Epoch: 1200, accuracy:0.7007,  binary_crossentropy:0.5788,  loss:0.5788,  val_accuracy:0.6740,  val_binary_crossentropy:0.5958,  val_loss:0.5958,  \n",
            "....................................................................................................\n",
            "Epoch: 1300, accuracy:0.7012,  binary_crossentropy:0.5775,  loss:0.5775,  val_accuracy:0.6820,  val_binary_crossentropy:0.5927,  val_loss:0.5927,  \n",
            "....................................................................................................\n",
            "Epoch: 1400, accuracy:0.7024,  binary_crossentropy:0.5762,  loss:0.5762,  val_accuracy:0.6790,  val_binary_crossentropy:0.5926,  val_loss:0.5926,  \n",
            "....................................................................................................\n",
            "Epoch: 1500, accuracy:0.7041,  binary_crossentropy:0.5756,  loss:0.5756,  val_accuracy:0.6900,  val_binary_crossentropy:0.5912,  val_loss:0.5912,  \n",
            "....................................................................................................\n",
            "Epoch: 1600, accuracy:0.7043,  binary_crossentropy:0.5743,  loss:0.5743,  val_accuracy:0.6810,  val_binary_crossentropy:0.5906,  val_loss:0.5906,  \n",
            "....................................................................................................\n",
            "Epoch: 1700, accuracy:0.7060,  binary_crossentropy:0.5732,  loss:0.5732,  val_accuracy:0.6870,  val_binary_crossentropy:0.5894,  val_loss:0.5894,  \n",
            "....................................................................................................\n",
            "Epoch: 1800, accuracy:0.7055,  binary_crossentropy:0.5724,  loss:0.5724,  val_accuracy:0.6910,  val_binary_crossentropy:0.5887,  val_loss:0.5887,  \n",
            "....................................................................................................\n",
            "Epoch: 1900, accuracy:0.7082,  binary_crossentropy:0.5712,  loss:0.5712,  val_accuracy:0.6850,  val_binary_crossentropy:0.5888,  val_loss:0.5888,  \n",
            "...................................................................................................."
          ],
          "name": "stdout"
        }
      ]
    },
    {
      "cell_type": "markdown",
      "metadata": {
        "id": "RUYPmSolXfe0",
        "colab_type": "text"
      },
      "source": [
        "Let's now check how the model did"
      ]
    },
    {
      "cell_type": "code",
      "metadata": {
        "id": "a_ADymrsaAga",
        "colab_type": "code",
        "colab": {
          "base_uri": "https://localhost:8080/",
          "height": 300
        },
        "outputId": "78743fdf-54cc-46f1-ddb2-4095fb670d9f"
      },
      "source": [
        "plotter = tfdocs.plots.HistoryPlotter(metric = 'binary_crossentropy', smoothing_std=10)\n",
        "plotter.plot(sizeHistories)\n",
        "plt.ylim([0.5, 0.7])"
      ],
      "execution_count": 18,
      "outputs": [
        {
          "output_type": "execute_result",
          "data": {
            "text/plain": [
              "(0.5, 0.7)"
            ]
          },
          "metadata": {
            "tags": []
          },
          "execution_count": 18
        },
        {
          "output_type": "display_data",
          "data": {
            "image/png": "[encoded data removed]",
            "text/plain": [
              "<Figure size 432x288 with 1 Axes>"
            ]
          },
          "metadata": {
            "tags": []
          }
        }
      ]
    },
    {
      "cell_type": "markdown",
      "metadata": {
        "id": "HIC5emU4YEgL",
        "colab_type": "text"
      },
      "source": [
        "#**Small Model**\n",
        "* To see if you can beat the performance of the small model, progressively train some larger models.\n",
        "\n",
        "* Try two hidden layers with 16 units each:"
      ]
    },
    {
      "cell_type": "code",
      "metadata": {
        "id": "uDxuo0QKaAbG",
        "colab_type": "code",
        "colab": {}
      },
      "source": [
        "smallModel = tf.keras.Sequential([\n",
        "    layers.Dense(16, activation='elu', input_shape=(FEATURES,)),\n",
        "    layers.Dense(16, activation='elu'),\n",
        "    layers.Dense(1, activation='sigmoid')\n",
        "])"
      ],
      "execution_count": 0,
      "outputs": []
    },
    {
      "cell_type": "code",
      "metadata": {
        "id": "bC3uLclpaASS",
        "colab_type": "code",
        "colab": {
          "base_uri": "https://localhost:8080/",
          "height": 442
        },
        "outputId": "072ebfd2-1912-4029-eb9b-2583ba2a87ee"
      },
      "source": [
        "sizeHistories['Small'] = compileAndFit(smallModel, 'sizes/Small')"
      ],
      "execution_count": 20,
      "outputs": [
        {
          "output_type": "stream",
          "text": [
            "Model: \"sequential_1\"\n",
            "_________________________________________________________________\n",
            "Layer (type)                 Output Shape              Param #   \n",
            "=================================================================\n",
            "dense_2 (Dense)              (None, 16)                464       \n",
            "_________________________________________________________________\n",
            "dense_3 (Dense)              (None, 16)                272       \n",
            "_________________________________________________________________\n",
            "dense_4 (Dense)              (None, 1)                 17        \n",
            "=================================================================\n",
            "Total params: 753\n",
            "Trainable params: 753\n",
            "Non-trainable params: 0\n",
            "_________________________________________________________________\n",
            "\n",
            "Epoch: 0, accuracy:0.5061,  binary_crossentropy:0.7242,  loss:0.7242,  val_accuracy:0.4870,  val_binary_crossentropy:0.7151,  val_loss:0.7151,  \n",
            "....................................................................................................\n",
            "Epoch: 100, accuracy:0.6566,  binary_crossentropy:0.6191,  loss:0.6191,  val_accuracy:0.6600,  val_binary_crossentropy:0.6227,  val_loss:0.6227,  \n",
            "....................................................................................................\n",
            "Epoch: 200, accuracy:0.6904,  binary_crossentropy:0.5865,  loss:0.5865,  val_accuracy:0.6770,  val_binary_crossentropy:0.5927,  val_loss:0.5927,  \n",
            "....................................................................................................\n",
            "Epoch: 300, accuracy:0.6959,  binary_crossentropy:0.5755,  loss:0.5755,  val_accuracy:0.6870,  val_binary_crossentropy:0.5869,  val_loss:0.5869,  \n",
            "....................................................................................................\n",
            "Epoch: 400, accuracy:0.7026,  binary_crossentropy:0.5691,  loss:0.5691,  val_accuracy:0.6960,  val_binary_crossentropy:0.5951,  val_loss:0.5951,  \n",
            ".................................................................."
          ],
          "name": "stdout"
        }
      ]
    },
    {
      "cell_type": "markdown",
      "metadata": {
        "id": "tl455QbGaAlf",
        "colab_type": "text"
      },
      "source": [
        "#**Medium Model**\n",
        "Now try 3 hidden layers with 64 units each."
      ]
    },
    {
      "cell_type": "code",
      "metadata": {
        "id": "Cy56zXgbaAQu",
        "colab_type": "code",
        "colab": {}
      },
      "source": [
        "mediumModel = tf.keras.Sequential([\n",
        "    layers.Dense(64, activation='elu', input_shape=(FEATURES,)),\n",
        "    layers.Dense(64, activation='elu'),\n",
        "    layers.Dense(64, activation='elu'),\n",
        "    layers.Dense(1, activation='sigmoid')\n",
        "])"
      ],
      "execution_count": 0,
      "outputs": []
    },
    {
      "cell_type": "markdown",
      "metadata": {
        "id": "OqeCWxaQbTV3",
        "colab_type": "text"
      },
      "source": [
        "And train the model using the same data"
      ]
    },
    {
      "cell_type": "code",
      "metadata": {
        "id": "0rsUNQ0IaADk",
        "colab_type": "code",
        "colab": {
          "base_uri": "https://localhost:8080/",
          "height": 408
        },
        "outputId": "d691ce17-2637-4910-b9db-fc2463f328da"
      },
      "source": [
        "sizeHistories['Medium'] = compileAndFit(mediumModel, 'sizes/Medium')"
      ],
      "execution_count": 22,
      "outputs": [
        {
          "output_type": "stream",
          "text": [
            "Model: \"sequential_2\"\n",
            "_________________________________________________________________\n",
            "Layer (type)                 Output Shape              Param #   \n",
            "=================================================================\n",
            "dense_5 (Dense)              (None, 64)                1856      \n",
            "_________________________________________________________________\n",
            "dense_6 (Dense)              (None, 64)                4160      \n",
            "_________________________________________________________________\n",
            "dense_7 (Dense)              (None, 64)                4160      \n",
            "_________________________________________________________________\n",
            "dense_8 (Dense)              (None, 1)                 65        \n",
            "=================================================================\n",
            "Total params: 10,241\n",
            "Trainable params: 10,241\n",
            "Non-trainable params: 0\n",
            "_________________________________________________________________\n",
            "\n",
            "Epoch: 0, accuracy:0.5293,  binary_crossentropy:0.6958,  loss:0.6958,  val_accuracy:0.5410,  val_binary_crossentropy:0.6873,  val_loss:0.6873,  \n",
            "....................................................................................................\n",
            "Epoch: 100, accuracy:0.7360,  binary_crossentropy:0.5258,  loss:0.5258,  val_accuracy:0.6670,  val_binary_crossentropy:0.6139,  val_loss:0.6139,  \n",
            "....................................................................................................\n",
            "Epoch: 200, accuracy:0.8047,  binary_crossentropy:0.4222,  loss:0.4222,  val_accuracy:0.6630,  val_binary_crossentropy:0.6993,  val_loss:0.6993,  \n",
            "..................................................................................."
          ],
          "name": "stdout"
        }
      ]
    },
    {
      "cell_type": "markdown",
      "metadata": {
        "id": "Iqdtf0bjcAg-",
        "colab_type": "text"
      },
      "source": [
        "#**Large Model**\n",
        "* As an exercise, you can create an even larger model, and see how quickly it begins overfitting. \n",
        "* Next, let's add to this benchmark a network that has much more capacity, far more than the problem would warrant:"
      ]
    },
    {
      "cell_type": "code",
      "metadata": {
        "id": "l2KUSHL9aAAn",
        "colab_type": "code",
        "colab": {}
      },
      "source": [
        "largeModel = tf.keras.Sequential([\n",
        "    layers.Dense(512, activation='elu', input_shape=(FEATURES,)),\n",
        "    layers.Dense(512, activation='elu'),\n",
        "    layers.Dense(512, activation='elu'),\n",
        "    layers.Dense(512, activation='elu'),\n",
        "    layers.Dense(1, activation='sigmoid')\n",
        "])"
      ],
      "execution_count": 0,
      "outputs": []
    },
    {
      "cell_type": "code",
      "metadata": {
        "id": "JeeIvHofZ_0g",
        "colab_type": "code",
        "colab": {
          "base_uri": "https://localhost:8080/",
          "height": 442
        },
        "outputId": "9b144048-a168-49af-b399-42412a8ad465"
      },
      "source": [
        "sizeHistories['Large'] = compileAndFit(largeModel,'sizes/Large')"
      ],
      "execution_count": 24,
      "outputs": [
        {
          "output_type": "stream",
          "text": [
            "Model: \"sequential_3\"\n",
            "_________________________________________________________________\n",
            "Layer (type)                 Output Shape              Param #   \n",
            "=================================================================\n",
            "dense_9 (Dense)              (None, 512)               14848     \n",
            "_________________________________________________________________\n",
            "dense_10 (Dense)             (None, 512)               262656    \n",
            "_________________________________________________________________\n",
            "dense_11 (Dense)             (None, 512)               262656    \n",
            "_________________________________________________________________\n",
            "dense_12 (Dense)             (None, 512)               262656    \n",
            "_________________________________________________________________\n",
            "dense_13 (Dense)             (None, 1)                 513       \n",
            "=================================================================\n",
            "Total params: 803,329\n",
            "Trainable params: 803,329\n",
            "Non-trainable params: 0\n",
            "_________________________________________________________________\n",
            "\n",
            "Epoch: 0, accuracy:0.5200,  binary_crossentropy:0.7942,  loss:0.7942,  val_accuracy:0.5280,  val_binary_crossentropy:0.7063,  val_loss:0.7063,  \n",
            "....................................................................................................\n",
            "Epoch: 100, accuracy:1.0000,  binary_crossentropy:0.0019,  loss:0.0019,  val_accuracy:0.6500,  val_binary_crossentropy:1.8642,  val_loss:1.8642,  \n",
            "....................................................................................................\n",
            "Epoch: 200, accuracy:1.0000,  binary_crossentropy:0.0001,  loss:0.0001,  val_accuracy:0.6490,  val_binary_crossentropy:2.5159,  val_loss:2.5159,  \n",
            "..................."
          ],
          "name": "stdout"
        }
      ]
    },
    {
      "cell_type": "markdown",
      "metadata": {
        "id": "sU6RwyEse7Qr",
        "colab_type": "text"
      },
      "source": [
        "#**Plot the training and validation losses**\n",
        "* The solid lines show the training loss, and the dashed lines show the validation loss.\n",
        "* While building a larger model gives it more power, if this power is not constrained somehow it can easily overfit to the training set.\n",
        "* In this example, typically, only the \"Tiny\" model manages to avoid overfitting alltogether, and each of the larger models overfit the data more quickly. This becomes so sever for the \"large\" model that you need to switch the plot to a log-scale to really see what's happening.\n",
        "* This is apparent if you plot and compare the validation metrics to the training metrics.\n",
        "\n",
        "> It's normal for there to be a small difference.\n",
        "* If both metrics are moving in the same direction, everything is fine.\n",
        "* If the validation metric begins to stagnate while the training metric continues to improve, you are probably close to overfitting.\n",
        "* If the validation metric is going in the wrong direction, the model is clearly overfitting.\n",
        "\n",
        "\n"
      ]
    },
    {
      "cell_type": "code",
      "metadata": {
        "id": "bCvl3M_DZ_qb",
        "colab_type": "code",
        "colab": {
          "base_uri": "https://localhost:8080/",
          "height": 355
        },
        "outputId": "696e4aec-4959-49e6-ff46-cbe9806751e4"
      },
      "source": [
        "plotter.plot(sizeHistories)\n",
        "a = plt.xscale('log')\n",
        "plt.xlim([0, max(plt.xlim())])\n",
        "plt.ylim([0.5, 0.7])\n",
        "plt.xlabel('Epochs [Log Scale]')\n"
      ],
      "execution_count": 25,
      "outputs": [
        {
          "output_type": "stream",
          "text": [
            "/usr/local/lib/python3.6/dist-packages/ipykernel_launcher.py:3: UserWarning: Attempted to set non-positive left xlim on a log-scaled axis.\n",
            "Invalid limit will be ignored.\n",
            "  This is separate from the ipykernel package so we can avoid doing imports until\n"
          ],
          "name": "stderr"
        },
        {
          "output_type": "execute_result",
          "data": {
            "text/plain": [
              "Text(0.5, 0, 'Epochs [Log Scale]')"
            ]
          },
          "metadata": {
            "tags": []
          },
          "execution_count": 25
        },
        {
          "output_type": "display_data",
          "data": {
            "image/png": "[encoded data removed]",
            "text/plain": [
              "<Figure size 432x288 with 1 Axes>"
            ]
          },
          "metadata": {
            "tags": []
          }
        }
      ]
    },
    {
      "cell_type": "markdown",
      "metadata": {
        "id": "sZYVWuhrGy2Y",
        "colab_type": "text"
      },
      "source": [
        "#**Strategies to prevent overfitting**\n",
        "Before getting into the content of this section copy the training logs from the \"Tiny\" model above, to use as a beseline for comparison."
      ]
    },
    {
      "cell_type": "code",
      "metadata": {
        "id": "jS8uJQxbdwZ7",
        "colab_type": "code",
        "colab": {
          "base_uri": "https://localhost:8080/",
          "height": 34
        },
        "outputId": "2f7cee0f-f1dd-4f6c-c97c-47b431c03fb1"
      },
      "source": [
        "shutil.rmtree(logdir/'regularizers/Tiny', ignore_errors=True)\n",
        "shutil.copytree(logdir/'sizes/Tiny', logdir/'regularizers/Tiny')\n"
      ],
      "execution_count": 26,
      "outputs": [
        {
          "output_type": "execute_result",
          "data": {
            "text/plain": [
              "PosixPath('/tmp/tmp5pv_cd_z/tensorboard_logs/regularizers/Tiny')"
            ]
          },
          "metadata": {
            "tags": []
          },
          "execution_count": 26
        }
      ]
    },
    {
      "cell_type": "code",
      "metadata": {
        "id": "U2uD0f06dwYP",
        "colab_type": "code",
        "colab": {}
      },
      "source": [
        "regularizerHistories = {}\n",
        "regularizerHistories['Tiny'] = sizeHistories['Tiny']"
      ],
      "execution_count": 0,
      "outputs": []
    },
    {
      "cell_type": "markdown",
      "metadata": {
        "id": "IdsM3zazfr3Z",
        "colab_type": "text"
      },
      "source": [
        "#**Add weight regularization**\n",
        "* You may be familiar with Occam's Razor principle: given two explanations for something, the explanation most likely to be correct is the \"simplest\" one, the one that makes the least amount of assumptions. This also applies to the models learned by neural networks: given some training data and a network architecture,there are multiple sets of weights values (multiple models) that could explain the data, and simpler models are less likely to overfit than complex ones.(or a model with fewer parameters altogether, as we saw in the section above). \n",
        "* Thus a common way to mitigate overfitting is to put constraints on the complexity of a network by forcing its weights only to take small values, which makes the distribution of weight values more \"regular\". This is called \"weight regularization\", and it is done by adding to the loss function of the network a cost associated with having large weights. This cost comes in two flavors:\n",
        "\n",
        "> **L1(Laplacian) regularization**, where the cost added is proportional to the absolute value of the weights coefficients (i.e. to what is called the \"L1 norm\" of the weights).L1 regularization pushes weights towards exactly zero encouraging a sparse model.                   \n",
        ">**L2(Gaussian) regularization**, where the cost added is proportional to the square of the value of the weights coefficients (i.e. to what is called the squared \"L2 norm\" of the weights). L2 regularization is also called weight decay in the context of neural networks. the weight decay is mathematically the exact same as L2 regularization.L2 regularization will penalize the weights parameters without making them sparse since the penalty goes to zero for small weights. one reason why L2 is more common.\n",
        "*****************************************************************************\n",
        "In tf.keras, weight regularization is added by passing weight regularizer instances to layers as keyword arguments. Let's add L2 weight regularization now.\n",
        "\n",
        "\n",
        "\n"
      ]
    },
    {
      "cell_type": "code",
      "metadata": {
        "id": "n69jyeNJdwWt",
        "colab_type": "code",
        "colab": {
          "base_uri": "https://localhost:8080/",
          "height": 510
        },
        "outputId": "16a50036-e8fb-4a51-be95-10c59103f5e4"
      },
      "source": [
        "l2Model = tf.keras.Sequential([\n",
        "    layers.Dense(512, activation='elu',\n",
        "                 kernel_regularizer=regularizers.l2(0.001),\n",
        "                 input_shape=(FEATURES,)),\n",
        "    layers.Dense(512, activation='elu',\n",
        "                 kernel_regularizer=regularizers.l2(0.001)),\n",
        "    layers.Dense(512, activation='elu',\n",
        "                 kernel_regularizer=regularizers.l2(0.001)),\n",
        "    layers.Dense(512, activation='elu',\n",
        "                 kernel_regularizer=regularizers.l2(0.001)),\n",
        "    layers.Dense(1, activation='sigmoid')\n",
        "])\n",
        "regularizerHistories['l2'] = compileAndFit(l2Model, \"regularizers/l2\")"
      ],
      "execution_count": 28,
      "outputs": [
        {
          "output_type": "stream",
          "text": [
            "Model: \"sequential_4\"\n",
            "_________________________________________________________________\n",
            "Layer (type)                 Output Shape              Param #   \n",
            "=================================================================\n",
            "dense_14 (Dense)             (None, 512)               14848     \n",
            "_________________________________________________________________\n",
            "dense_15 (Dense)             (None, 512)               262656    \n",
            "_________________________________________________________________\n",
            "dense_16 (Dense)             (None, 512)               262656    \n",
            "_________________________________________________________________\n",
            "dense_17 (Dense)             (None, 512)               262656    \n",
            "_________________________________________________________________\n",
            "dense_18 (Dense)             (None, 1)                 513       \n",
            "=================================================================\n",
            "Total params: 803,329\n",
            "Trainable params: 803,329\n",
            "Non-trainable params: 0\n",
            "_________________________________________________________________\n",
            "\n",
            "Epoch: 0, accuracy:0.5102,  binary_crossentropy:0.8347,  loss:2.3587,  val_accuracy:0.5820,  val_binary_crossentropy:0.6731,  val_loss:2.1237,  \n",
            "....................................................................................................\n",
            "Epoch: 100, accuracy:0.6786,  binary_crossentropy:0.5955,  loss:0.6204,  val_accuracy:0.6970,  val_binary_crossentropy:0.5824,  val_loss:0.6070,  \n",
            "....................................................................................................\n",
            "Epoch: 200, accuracy:0.7011,  binary_crossentropy:0.5789,  loss:0.6029,  val_accuracy:0.6830,  val_binary_crossentropy:0.5752,  val_loss:0.5990,  \n",
            "....................................................................................................\n",
            "Epoch: 300, accuracy:0.6831,  binary_crossentropy:0.5921,  loss:0.6608,  val_accuracy:0.6770,  val_binary_crossentropy:0.5921,  val_loss:0.6585,  \n",
            "....................................................................................................\n",
            "Epoch: 400, accuracy:0.7108,  binary_crossentropy:0.5650,  loss:0.5910,  val_accuracy:0.7000,  val_binary_crossentropy:0.5775,  val_loss:0.6034,  \n",
            "......................................"
          ],
          "name": "stdout"
        }
      ]
    },
    {
      "cell_type": "markdown",
      "metadata": {
        "id": "GFwFQiL5xPdq",
        "colab_type": "text"
      },
      "source": [
        "**Binary crossentropy** is a loss function used on problems involving yes/no (binary) decisions. For instance, in multi-label problems, where an example can belong to multiple classes at the same time, the model tries to decide for each class whether the example belongs to that class or not.\n",
        "\n",
        "Binary crossentropy measures how far away from the true value (which is either 0 or 1) the prediction is for each of the classes and then averages these class-wise errors to obtain the final loss.\n",
        "\n",
        "* **L2 (0.001)**  means that every coefficient in the weight matrix of the layer will add **(0.001 x weight_coefficient_value ^ 2)** to the total loss of the network.\n",
        "* That is why we're monitoring the binary_crossentropy directly. Because it doesn't have this regularization component mixed in.\n",
        "\n",
        "* So, that same \"Large\" model with an L2 regularization penalty performs much better:"
      ]
    },
    {
      "cell_type": "code",
      "metadata": {
        "id": "--wl18DNdwQa",
        "colab_type": "code",
        "colab": {
          "base_uri": "https://localhost:8080/",
          "height": 300
        },
        "outputId": "6b9e49c5-c409-4804-e482-128cca4ffbd7"
      },
      "source": [
        "plotter.plot(regularizerHistories)\n",
        "plt.ylim([0.5, 0.7])"
      ],
      "execution_count": 29,
      "outputs": [
        {
          "output_type": "execute_result",
          "data": {
            "text/plain": [
              "(0.5, 0.7)"
            ]
          },
          "metadata": {
            "tags": []
          },
          "execution_count": 29
        },
        {
          "output_type": "display_data",
          "data": {
            "image/png": "[encoded data removed]",
            "text/plain": [
              "<Figure size 432x288 with 1 Axes>"
            ]
          },
          "metadata": {
            "tags": []
          }
        }
      ]
    },
    {
      "cell_type": "markdown",
      "metadata": {
        "id": "gk9pVCKTQSnk",
        "colab_type": "text"
      },
      "source": [
        "As you can see, the \"L2\" regularized model is now much more competitive with the the \"Tiny\" model. This \"L2\" model is also much more resistant to overfitting than the \"Large\" model it was based on despite having a the same number of parameters.\n",
        "* There are two important things to note about this sort of regularization.\n",
        "\n",
        "> First: If you are writing your own training loop, then you need to be sure to ask the model for it's regularization losses.\n",
        "\n",
        "\n",
        "\n",
        "\n"
      ]
    },
    {
      "cell_type": "code",
      "metadata": {
        "id": "Qt1Ex35RdwOS",
        "colab_type": "code",
        "colab": {}
      },
      "source": [
        "result = l2Model(features)\n",
        "regularizationLoss = tf.add_n(l2Model.losses)"
      ],
      "execution_count": 0,
      "outputs": []
    },
    {
      "cell_type": "markdown",
      "metadata": {
        "id": "737x43q9RPoM",
        "colab_type": "text"
      },
      "source": [
        "\n",
        "\n",
        "> Second: This implementation works by adding the weight penalties to the model's loss, and then applying a standard optimization procedure after that.\n",
        "\n"
      ]
    },
    {
      "cell_type": "markdown",
      "metadata": {
        "id": "caukoPCqTzmj",
        "colab_type": "text"
      },
      "source": [
        "#**Add Dropout**\n",
        "The intuitive explaination for dropout is that because individual nodes in the network cannot rely on the output of the others, each node must output features that are useful on their own.\n",
        "\n",
        "\n",
        "Dropout, applied to a layer, consists of randomly \"dropping out\" (i.e. set to zero) a number of output features of the layer during training. Let's say a given layer would normally have returned a vector [0.2, 0.5, 1.3, 0.8, 1.1] for a given input sample during training; after applying dropout, this vector will have a few zero entries distributed at random, e.g. [0, 0.5, 1.3, 0, 1.1].\n",
        "\n",
        "\n",
        "At test time, no units are dropped out, and instead the layer's output values are scaled down by a factor equal to the dropout rate, so as to balance for the fact that more units are active than at training time.\n",
        "\n",
        "> In tf.keras you can introduce dropout in a network via the Dropout layer, which gets applied to the output of layer right before.\n",
        "\n",
        "* Let's add two Dropout layers in our network to see how well they do at reducing overfitting:"
      ]
    },
    {
      "cell_type": "code",
      "metadata": {
        "id": "0eLhMPXBdwME",
        "colab_type": "code",
        "colab": {
          "base_uri": "https://localhost:8080/",
          "height": 612
        },
        "outputId": "f101d652-da41-478e-e1db-f0ac6c1d5aaf"
      },
      "source": [
        "dropoutModel = tf.keras.Sequential([\n",
        "    layers.Dense(512, activation='elu', input_shape=(FEATURES,)),\n",
        "    layers.Dropout(0.5),\n",
        "    layers.Dense(512, activation='elu'),\n",
        "    layers.Dropout(0.5),\n",
        "    layers.Dense(512, activation='elu'),\n",
        "    layers.Dropout(0.5),\n",
        "    layers.Dense(512, activation='elu'),\n",
        "    layers.Dropout(0.5),\n",
        "    layers.Dense(1, activation='sigmoid')])\n",
        "regularizerHistories['Dropout'] = compileAndFit(dropoutModel, 'regularizers/dropout')"
      ],
      "execution_count": 31,
      "outputs": [
        {
          "output_type": "stream",
          "text": [
            "Model: \"sequential_5\"\n",
            "_________________________________________________________________\n",
            "Layer (type)                 Output Shape              Param #   \n",
            "=================================================================\n",
            "dense_19 (Dense)             (None, 512)               14848     \n",
            "_________________________________________________________________\n",
            "dropout (Dropout)            (None, 512)               0         \n",
            "_________________________________________________________________\n",
            "dense_20 (Dense)             (None, 512)               262656    \n",
            "_________________________________________________________________\n",
            "dropout_1 (Dropout)          (None, 512)               0         \n",
            "_________________________________________________________________\n",
            "dense_21 (Dense)             (None, 512)               262656    \n",
            "_________________________________________________________________\n",
            "dropout_2 (Dropout)          (None, 512)               0         \n",
            "_________________________________________________________________\n",
            "dense_22 (Dense)             (None, 512)               262656    \n",
            "_________________________________________________________________\n",
            "dropout_3 (Dropout)          (None, 512)               0         \n",
            "_________________________________________________________________\n",
            "dense_23 (Dense)             (None, 1)                 513       \n",
            "=================================================================\n",
            "Total params: 803,329\n",
            "Trainable params: 803,329\n",
            "Non-trainable params: 0\n",
            "_________________________________________________________________\n",
            "\n",
            "Epoch: 0, accuracy:0.5169,  binary_crossentropy:0.7919,  loss:0.7919,  val_accuracy:0.5620,  val_binary_crossentropy:0.7016,  val_loss:0.7016,  \n",
            "....................................................................................................\n",
            "Epoch: 100, accuracy:0.6787,  binary_crossentropy:0.5946,  loss:0.5946,  val_accuracy:0.7000,  val_binary_crossentropy:0.5764,  val_loss:0.5764,  \n",
            "....................................................................................................\n",
            "Epoch: 200, accuracy:0.7080,  binary_crossentropy:0.5559,  loss:0.5559,  val_accuracy:0.6990,  val_binary_crossentropy:0.5824,  val_loss:0.5824,  \n",
            "....................................................................................................\n",
            "Epoch: 300, accuracy:0.7367,  binary_crossentropy:0.5127,  loss:0.5127,  val_accuracy:0.6840,  val_binary_crossentropy:0.6058,  val_loss:0.6058,  \n",
            "..................."
          ],
          "name": "stdout"
        }
      ]
    },
    {
      "cell_type": "markdown",
      "metadata": {
        "id": "0TKv34elW7Fz",
        "colab_type": "text"
      },
      "source": [
        "![alt text](https://s3-ap-south-1.amazonaws.com/av-blog-media/wp-content/uploads/2017/05/20073927/dropout.png)"
      ]
    },
    {
      "cell_type": "code",
      "metadata": {
        "id": "ajhFkXThdwJz",
        "colab_type": "code",
        "colab": {
          "base_uri": "https://localhost:8080/",
          "height": 300
        },
        "outputId": "d397c951-d580-4e7c-bb62-138603068480"
      },
      "source": [
        "plotter.plot(regularizerHistories)\n",
        "plt.ylim([0.5, 0.7])"
      ],
      "execution_count": 32,
      "outputs": [
        {
          "output_type": "execute_result",
          "data": {
            "text/plain": [
              "(0.5, 0.7)"
            ]
          },
          "metadata": {
            "tags": []
          },
          "execution_count": 32
        },
        {
          "output_type": "display_data",
          "data": {
            "image/png": "[encoded data removed]",
            "text/plain": [
              "<Figure size 432x288 with 1 Axes>"
            ]
          },
          "metadata": {
            "tags": []
          }
        }
      ]
    },
    {
      "cell_type": "markdown",
      "metadata": {
        "id": "PZsmW2qIc0aU",
        "colab_type": "text"
      },
      "source": [
        "It's clear from this plot that both of these regularization approaches improve teh behavior of the \"Large\" model. But this still doesn't beat even the \"Tiny\" baseline.\n",
        "* Then let's try the two together and see if it's better."
      ]
    },
    {
      "cell_type": "markdown",
      "metadata": {
        "id": "sni2kA0fdD2j",
        "colab_type": "text"
      },
      "source": [
        "#**Combined L2 + dropout**"
      ]
    },
    {
      "cell_type": "code",
      "metadata": {
        "id": "DtbW9satdwHj",
        "colab_type": "code",
        "colab": {
          "base_uri": "https://localhost:8080/",
          "height": 816
        },
        "outputId": "50428a7f-0a98-48ae-85a2-bbc7ec4a72ed"
      },
      "source": [
        "combinedModel = tf.keras.Sequential([\n",
        "    layers.Dense(512, kernel_regularizer=regularizers.l2(0.0001),\n",
        "                 activation='elu', input_shape=(FEATURES,)),\n",
        "    layers.Dropout(0.5),\n",
        "    layers.Dense(512, kernel_regularizer=regularizers.l2(0.0001),\n",
        "                 activation='elu'),\n",
        "    layers.Dropout(0.5),\n",
        "    layers.Dense(512, kernel_regularizer=regularizers.l2(0.0001),\n",
        "                 activation='elu'),\n",
        "    layers.Dropout(0.5),\n",
        "    layers.Dense(512, kernel_regularizer=regularizers.l2(0.0001),\n",
        "                 activation='elu'),\n",
        "    layers.Dropout(0.5),\n",
        "    layers.Dense(1, activation='sigmoid')])\n",
        "regularizerHistories['Combined'] = compileAndFit(combinedModel, 'regularizers/combined')"
      ],
      "execution_count": 33,
      "outputs": [
        {
          "output_type": "stream",
          "text": [
            "Model: \"sequential_6\"\n",
            "_________________________________________________________________\n",
            "Layer (type)                 Output Shape              Param #   \n",
            "=================================================================\n",
            "dense_24 (Dense)             (None, 512)               14848     \n",
            "_________________________________________________________________\n",
            "dropout_4 (Dropout)          (None, 512)               0         \n",
            "_________________________________________________________________\n",
            "dense_25 (Dense)             (None, 512)               262656    \n",
            "_________________________________________________________________\n",
            "dropout_5 (Dropout)          (None, 512)               0         \n",
            "_________________________________________________________________\n",
            "dense_26 (Dense)             (None, 512)               262656    \n",
            "_________________________________________________________________\n",
            "dropout_6 (Dropout)          (None, 512)               0         \n",
            "_________________________________________________________________\n",
            "dense_27 (Dense)             (None, 512)               262656    \n",
            "_________________________________________________________________\n",
            "dropout_7 (Dropout)          (None, 512)               0         \n",
            "_________________________________________________________________\n",
            "dense_28 (Dense)             (None, 1)                 513       \n",
            "=================================================================\n",
            "Total params: 803,329\n",
            "Trainable params: 803,329\n",
            "Non-trainable params: 0\n",
            "_________________________________________________________________\n",
            "\n",
            "Epoch: 0, accuracy:0.5155,  binary_crossentropy:0.7923,  loss:0.9504,  val_accuracy:0.5600,  val_binary_crossentropy:0.6926,  val_loss:0.8500,  \n",
            "....................................................................................................\n",
            "Epoch: 100, accuracy:0.6721,  binary_crossentropy:0.6037,  loss:0.6327,  val_accuracy:0.6890,  val_binary_crossentropy:0.5811,  val_loss:0.6099,  \n",
            "....................................................................................................\n",
            "Epoch: 200, accuracy:0.6855,  binary_crossentropy:0.5908,  loss:0.6161,  val_accuracy:0.6900,  val_binary_crossentropy:0.5722,  val_loss:0.5975,  \n",
            "....................................................................................................\n",
            "Epoch: 300, accuracy:0.6914,  binary_crossentropy:0.5816,  loss:0.6095,  val_accuracy:0.7100,  val_binary_crossentropy:0.5665,  val_loss:0.5944,  \n",
            "....................................................................................................\n",
            "Epoch: 400, accuracy:0.6905,  binary_crossentropy:0.5783,  loss:0.6076,  val_accuracy:0.7080,  val_binary_crossentropy:0.5583,  val_loss:0.5875,  \n",
            "....................................................................................................\n",
            "Epoch: 500, accuracy:0.6943,  binary_crossentropy:0.5721,  loss:0.6033,  val_accuracy:0.7110,  val_binary_crossentropy:0.5581,  val_loss:0.5893,  \n",
            "....................................................................................................\n",
            "Epoch: 600, accuracy:0.7016,  binary_crossentropy:0.5686,  loss:0.6013,  val_accuracy:0.7250,  val_binary_crossentropy:0.5476,  val_loss:0.5801,  \n",
            "....................................................................................................\n",
            "Epoch: 700, accuracy:0.7031,  binary_crossentropy:0.5643,  loss:0.5977,  val_accuracy:0.7200,  val_binary_crossentropy:0.5455,  val_loss:0.5788,  \n",
            "....................................................................................................\n",
            "Epoch: 800, accuracy:0.7010,  binary_crossentropy:0.5656,  loss:0.6001,  val_accuracy:0.7330,  val_binary_crossentropy:0.5427,  val_loss:0.5772,  \n",
            "....................................................................................................\n",
            "Epoch: 900, accuracy:0.7109,  binary_crossentropy:0.5580,  loss:0.5934,  val_accuracy:0.7300,  val_binary_crossentropy:0.5470,  val_loss:0.5824,  \n",
            "..........................................."
          ],
          "name": "stdout"
        }
      ]
    },
    {
      "cell_type": "code",
      "metadata": {
        "id": "idEf1R48dwF3",
        "colab_type": "code",
        "colab": {
          "base_uri": "https://localhost:8080/",
          "height": 300
        },
        "outputId": "bc800f96-2720-4a66-8ce1-8dc9270067fa"
      },
      "source": [
        "plotter.plot(regularizerHistories)\n",
        "plt.ylim([0.5, 0.7])"
      ],
      "execution_count": 34,
      "outputs": [
        {
          "output_type": "execute_result",
          "data": {
            "text/plain": [
              "(0.5, 0.7)"
            ]
          },
          "metadata": {
            "tags": []
          },
          "execution_count": 34
        },
        {
          "output_type": "display_data",
          "data": {
            "image/png": "[encoded data removed]",
            "text/plain": [
              "<Figure size 432x288 with 1 Axes>"
            ]
          },
          "metadata": {
            "tags": []
          }
        }
      ]
    },
    {
      "cell_type": "markdown",
      "metadata": {
        "id": "fVuhYkPk4FK3",
        "colab_type": "text"
      },
      "source": [
        "#**As a result**\n",
        "To recap: here are the most common ways to prevent overfitting in neural networks:\n",
        "  * Get more training data.\n",
        "  * Reduce the capacity of the network.\n",
        "  * Add weight regularization.\n",
        "  * Add dropout.\n",
        "\n",
        "\n",
        "Two important approaches not covered in this guide are:\n",
        "* Data-augmentation\n",
        "* Batch normalization\n",
        "\n",
        "\n",
        "Remember that each method can help on its own, but often combining them can be even more effective."
      ]
    },
    {
      "cell_type": "markdown",
      "metadata": {
        "id": "YuOk1pti5bpq",
        "colab_type": "text"
      },
      "source": [
        "#**The End of today's code**"
      ]
    }
  ]
}